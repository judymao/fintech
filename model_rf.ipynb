{
 "cells": [
  {
   "cell_type": "markdown",
   "id": "05690754",
   "metadata": {},
   "source": [
    "# Models: Decision Tree, Random Forest"
   ]
  },
  {
   "cell_type": "code",
   "execution_count": 1,
   "id": "dcdcf4c9",
   "metadata": {},
   "outputs": [],
   "source": [
    "# Import relevant packages\n",
    "import matplotlib.pyplot as plt\n",
    "%matplotlib inline\n",
    "\n",
    "import numpy as np\n",
    "import pandas as pd\n",
    "import seaborn as sns\n",
    "import pickle\n",
    "\n",
    "from sklearn.preprocessing import StandardScaler\n",
    "from sklearn.model_selection import cross_val_score, train_test_split, GridSearchCV, StratifiedKFold\n",
    "from sklearn.metrics import make_scorer, accuracy_score, recall_score, roc_auc_score, precision_score\n",
    "from sklearn.metrics import plot_confusion_matrix, auc, roc_curve, plot_roc_curve, plot_precision_recall_curve\n",
    "from sklearn.inspection import permutation_importance\n",
    "from sklearn.ensemble import RandomForestClassifier, BaggingClassifier, AdaBoostClassifier\n",
    "from sklearn.tree import DecisionTreeClassifier\n",
    "\n",
    "from utils import process_data, compare_models, grid_search, get_gridsearch_results"
   ]
  },
  {
   "cell_type": "code",
   "execution_count": 2,
   "id": "01d52024",
   "metadata": {},
   "outputs": [
    {
     "name": "stdout",
     "output_type": "stream",
     "text": [
      "Beginning data processing ...\n",
      "Reading in batched data ...\n"
     ]
    },
    {
     "name": "stderr",
     "output_type": "stream",
     "text": [
      "100%|███████████████████████████████████████████| 19/19 [00:06<00:00,  2.79it/s]\n"
     ]
    },
    {
     "name": "stdout",
     "output_type": "stream",
     "text": [
      "Splitting data into train and test ...\n",
      "Scaling data ...\n",
      "Completed normal data processing.\n"
     ]
    }
   ],
   "source": [
    "data = process_data(type_ = 'normal')"
   ]
  },
  {
   "cell_type": "code",
   "execution_count": 3,
   "id": "23828c3b",
   "metadata": {},
   "outputs": [],
   "source": [
    "X_train = data['X_train_scaled']\n",
    "y_train = data['y_train']\n",
    "\n",
    "X_test = data['X_test_scaled']\n",
    "y_test = data['y_test']"
   ]
  },
  {
   "cell_type": "markdown",
   "id": "e2a11b57",
   "metadata": {},
   "source": [
    "## Useful Functions"
   ]
  },
  {
   "cell_type": "code",
   "execution_count": 4,
   "id": "fc0465e8",
   "metadata": {},
   "outputs": [],
   "source": [
    "def plot_roc_auc(clf):\n",
    "    fig, (ax1, ax2) = plt.subplots(1, 2, figsize=(10, 5))\n",
    "    \n",
    "    fpr, tpr, thresholds = roc_curve(y_train, clf.predict_proba(X_train)[:, 1])\n",
    "    auc_ = auc(fpr, tpr)\n",
    "\n",
    "    ax1.plot([0, 1], [0, 1], '--')\n",
    "    ax1.plot(fpr, tpr, label='area = {:.3f}'.format(auc_))\n",
    "    ax1.set_xlabel('False positive rate')\n",
    "    ax1.set_ylabel('True positive rate')\n",
    "    ax1.set_title(\"Train ROC AUC\")\n",
    "    ax1.legend(loc='best')\n",
    "\n",
    "    fpr, tpr, thresholds = roc_curve(y_test, clf.predict_proba(X_test)[:, 1])\n",
    "    auc_ = auc(fpr, tpr)\n",
    "\n",
    "    ax2.plot([0, 1], [0, 1], '--')\n",
    "    ax2.plot(fpr, tpr, label='area = {:.3f}'.format(auc_))\n",
    "    ax2.set_xlabel('False positive rate')\n",
    "    ax2.set_ylabel('True positive rate')\n",
    "    ax2.set_title(\"Test ROC AUC\")\n",
    "    \n",
    "    ax2.legend(loc='best')\n",
    "    plt.show()"
   ]
  },
  {
   "cell_type": "code",
   "execution_count": 5,
   "id": "631022ca",
   "metadata": {},
   "outputs": [],
   "source": [
    "def plot_importances(clf):\n",
    "    importances_impurity = clf.feature_importances_\n",
    "    impurity_importances = pd.Series(importances_impurity).nlargest(10) \n",
    "    # select the 10 X variables with largest feature importance values\n",
    "    fig, (ax1, ax2) = plt.subplots(1, 2, figsize=(10, 5))\n",
    "    impurity_importances.plot.bar(ax=ax1)\n",
    "    ax1.set_title(\"Feature importances using MDI (mean decrease in impurity)\")\n",
    "    ax1.set_ylabel(\"Mean decrease in impurity\")\n",
    "    \n",
    "    importances_permutation = permutation_importance(\n",
    "        clf, X_test, y_test, n_repeats=10, random_state=42, n_jobs=2\n",
    "    )\n",
    "    permutation_importances = pd.Series(importances_permutation.importances_mean).nlargest(10)\n",
    "\n",
    "    permutation_importances.plot.bar(ax=ax2)\n",
    "    ax2.set_title(\"Feature importances using permutation importances\")\n",
    "    ax2.set_ylabel(\"Mean decrease in accuracy\")\n",
    "    fig.tight_layout()"
   ]
  },
  {
   "cell_type": "markdown",
   "id": "00c2edca",
   "metadata": {},
   "source": [
    "# Decide which models to train"
   ]
  },
  {
   "cell_type": "code",
   "execution_count": 6,
   "id": "562d554f",
   "metadata": {},
   "outputs": [],
   "source": [
    "train_tree = False\n",
    "train_rf = True"
   ]
  },
  {
   "cell_type": "markdown",
   "id": "3c2358e3",
   "metadata": {},
   "source": [
    "## Decision Tree Model"
   ]
  },
  {
   "cell_type": "code",
   "execution_count": 7,
   "id": "e86c0e70",
   "metadata": {
    "scrolled": false
   },
   "outputs": [],
   "source": [
    "if train_tree:\n",
    "    # Specify scoring criterion\n",
    "    criterion = make_scorer(roc_auc_score, needs_proba=True)\n",
    "\n",
    "    clf_tree = DecisionTreeClassifier()\n",
    "\n",
    "    param_grid = dict(criterion=['gini', 'entropy'],\n",
    "                      max_depth=[2, 5, 10],\n",
    "                      ccp_alpha=[0, 0.00001, 0.0001])\n",
    "\n",
    "    grid_result_tree = grid_search(clf_tree, criterion, param_grid, k=4, X=X_train, y=Y_train)\n",
    "    \n",
    "    # Choose best parameters from hyperparameter tuning\n",
    "    clf_tree = grid_result_tree.best_estimator_\n",
    "    \n",
    "    # save best decision tree model\n",
    "    pickle.dump(clf_tree, open('models/model_tree.sav', 'wb'))"
   ]
  },
  {
   "cell_type": "code",
   "execution_count": 8,
   "id": "33fc59ed",
   "metadata": {},
   "outputs": [],
   "source": [
    "if train_tree:\n",
    "    get_gridsearch_results(grid_result_tree)"
   ]
  },
  {
   "cell_type": "code",
   "execution_count": 9,
   "id": "b1134e59",
   "metadata": {},
   "outputs": [],
   "source": [
    "# read best decision tree model\n",
    "clf_tree = pickle.load(open('models/model_tree.sav', 'rb'))"
   ]
  },
  {
   "cell_type": "markdown",
   "id": "44d4893c",
   "metadata": {},
   "source": [
    "## Random Forest Model"
   ]
  },
  {
   "cell_type": "code",
   "execution_count": 10,
   "id": "8d925c1d",
   "metadata": {
    "scrolled": true
   },
   "outputs": [
    {
     "name": "stdout",
     "output_type": "stream",
     "text": [
      "Fitting 4 folds for each of 27 candidates, totalling 108 fits\n",
      "[CV 1/4; 1/27] START ccp_alpha=0, criterion=entropy, max_depth=2, n_estimators=100\n",
      "[CV 1/4; 1/27] END ccp_alpha=0, criterion=entropy, max_depth=2, n_estimators=100;, score=0.996 total time= 1.8min\n",
      "[CV 2/4; 1/27] START ccp_alpha=0, criterion=entropy, max_depth=2, n_estimators=100\n",
      "[CV 2/4; 1/27] END ccp_alpha=0, criterion=entropy, max_depth=2, n_estimators=100;, score=0.998 total time= 1.8min\n",
      "[CV 3/4; 1/27] START ccp_alpha=0, criterion=entropy, max_depth=2, n_estimators=100\n",
      "[CV 3/4; 1/27] END ccp_alpha=0, criterion=entropy, max_depth=2, n_estimators=100;, score=0.996 total time= 1.7min\n",
      "[CV 4/4; 1/27] START ccp_alpha=0, criterion=entropy, max_depth=2, n_estimators=100\n",
      "[CV 4/4; 1/27] END ccp_alpha=0, criterion=entropy, max_depth=2, n_estimators=100;, score=0.996 total time= 1.8min\n",
      "[CV 1/4; 2/27] START ccp_alpha=0, criterion=entropy, max_depth=2, n_estimators=150\n",
      "[CV 1/4; 2/27] END ccp_alpha=0, criterion=entropy, max_depth=2, n_estimators=150;, score=0.997 total time= 2.6min\n",
      "[CV 2/4; 2/27] START ccp_alpha=0, criterion=entropy, max_depth=2, n_estimators=150\n",
      "[CV 2/4; 2/27] END ccp_alpha=0, criterion=entropy, max_depth=2, n_estimators=150;, score=0.998 total time= 2.7min\n",
      "[CV 3/4; 2/27] START ccp_alpha=0, criterion=entropy, max_depth=2, n_estimators=150\n",
      "[CV 3/4; 2/27] END ccp_alpha=0, criterion=entropy, max_depth=2, n_estimators=150;, score=0.996 total time= 2.8min\n",
      "[CV 4/4; 2/27] START ccp_alpha=0, criterion=entropy, max_depth=2, n_estimators=150\n",
      "[CV 4/4; 2/27] END ccp_alpha=0, criterion=entropy, max_depth=2, n_estimators=150;, score=0.996 total time=28.4min\n",
      "[CV 1/4; 3/27] START ccp_alpha=0, criterion=entropy, max_depth=2, n_estimators=200\n",
      "[CV 1/4; 3/27] END ccp_alpha=0, criterion=entropy, max_depth=2, n_estimators=200;, score=0.997 total time= 3.9min\n",
      "[CV 2/4; 3/27] START ccp_alpha=0, criterion=entropy, max_depth=2, n_estimators=200\n",
      "[CV 2/4; 3/27] END ccp_alpha=0, criterion=entropy, max_depth=2, n_estimators=200;, score=0.998 total time= 3.9min\n",
      "[CV 3/4; 3/27] START ccp_alpha=0, criterion=entropy, max_depth=2, n_estimators=200\n",
      "[CV 3/4; 3/27] END ccp_alpha=0, criterion=entropy, max_depth=2, n_estimators=200;, score=0.996 total time=47.1min\n",
      "[CV 4/4; 3/27] START ccp_alpha=0, criterion=entropy, max_depth=2, n_estimators=200\n",
      "[CV 4/4; 3/27] END ccp_alpha=0, criterion=entropy, max_depth=2, n_estimators=200;, score=0.997 total time= 3.9min\n",
      "[CV 1/4; 4/27] START ccp_alpha=0, criterion=entropy, max_depth=5, n_estimators=100\n",
      "[CV 1/4; 4/27] END ccp_alpha=0, criterion=entropy, max_depth=5, n_estimators=100;, score=0.997 total time= 3.6min\n",
      "[CV 2/4; 4/27] START ccp_alpha=0, criterion=entropy, max_depth=5, n_estimators=100\n",
      "[CV 2/4; 4/27] END ccp_alpha=0, criterion=entropy, max_depth=5, n_estimators=100;, score=0.999 total time=16.5min\n",
      "[CV 3/4; 4/27] START ccp_alpha=0, criterion=entropy, max_depth=5, n_estimators=100\n",
      "[CV 3/4; 4/27] END ccp_alpha=0, criterion=entropy, max_depth=5, n_estimators=100;, score=0.997 total time= 3.5min\n",
      "[CV 4/4; 4/27] START ccp_alpha=0, criterion=entropy, max_depth=5, n_estimators=100\n",
      "[CV 4/4; 4/27] END ccp_alpha=0, criterion=entropy, max_depth=5, n_estimators=100;, score=0.998 total time= 3.4min\n",
      "[CV 1/4; 5/27] START ccp_alpha=0, criterion=entropy, max_depth=5, n_estimators=150\n",
      "[CV 1/4; 5/27] END ccp_alpha=0, criterion=entropy, max_depth=5, n_estimators=150;, score=0.997 total time= 5.4min\n",
      "[CV 2/4; 5/27] START ccp_alpha=0, criterion=entropy, max_depth=5, n_estimators=150\n",
      "[CV 2/4; 5/27] END ccp_alpha=0, criterion=entropy, max_depth=5, n_estimators=150;, score=0.999 total time= 5.4min\n",
      "[CV 3/4; 5/27] START ccp_alpha=0, criterion=entropy, max_depth=5, n_estimators=150\n",
      "[CV 3/4; 5/27] END ccp_alpha=0, criterion=entropy, max_depth=5, n_estimators=150;, score=0.997 total time= 5.4min\n",
      "[CV 4/4; 5/27] START ccp_alpha=0, criterion=entropy, max_depth=5, n_estimators=150\n",
      "[CV 4/4; 5/27] END ccp_alpha=0, criterion=entropy, max_depth=5, n_estimators=150;, score=0.997 total time= 5.5min\n",
      "[CV 1/4; 6/27] START ccp_alpha=0, criterion=entropy, max_depth=5, n_estimators=200\n",
      "[CV 1/4; 6/27] END ccp_alpha=0, criterion=entropy, max_depth=5, n_estimators=200;, score=0.997 total time= 7.3min\n",
      "[CV 2/4; 6/27] START ccp_alpha=0, criterion=entropy, max_depth=5, n_estimators=200\n",
      "[CV 2/4; 6/27] END ccp_alpha=0, criterion=entropy, max_depth=5, n_estimators=200;, score=0.999 total time= 7.2min\n",
      "[CV 3/4; 6/27] START ccp_alpha=0, criterion=entropy, max_depth=5, n_estimators=200\n",
      "[CV 3/4; 6/27] END ccp_alpha=0, criterion=entropy, max_depth=5, n_estimators=200;, score=0.997 total time= 7.3min\n",
      "[CV 4/4; 6/27] START ccp_alpha=0, criterion=entropy, max_depth=5, n_estimators=200\n",
      "[CV 4/4; 6/27] END ccp_alpha=0, criterion=entropy, max_depth=5, n_estimators=200;, score=0.997 total time= 7.3min\n",
      "[CV 1/4; 7/27] START ccp_alpha=0, criterion=entropy, max_depth=10, n_estimators=100\n",
      "[CV 1/4; 7/27] END ccp_alpha=0, criterion=entropy, max_depth=10, n_estimators=100;, score=0.998 total time= 4.6min\n",
      "[CV 2/4; 7/27] START ccp_alpha=0, criterion=entropy, max_depth=10, n_estimators=100\n",
      "[CV 2/4; 7/27] END ccp_alpha=0, criterion=entropy, max_depth=10, n_estimators=100;, score=0.999 total time= 4.6min\n",
      "[CV 3/4; 7/27] START ccp_alpha=0, criterion=entropy, max_depth=10, n_estimators=100\n",
      "[CV 3/4; 7/27] END ccp_alpha=0, criterion=entropy, max_depth=10, n_estimators=100;, score=0.997 total time= 4.4min\n",
      "[CV 4/4; 7/27] START ccp_alpha=0, criterion=entropy, max_depth=10, n_estimators=100\n",
      "[CV 4/4; 7/27] END ccp_alpha=0, criterion=entropy, max_depth=10, n_estimators=100;, score=0.997 total time= 4.5min\n",
      "[CV 1/4; 8/27] START ccp_alpha=0, criterion=entropy, max_depth=10, n_estimators=150\n",
      "[CV 1/4; 8/27] END ccp_alpha=0, criterion=entropy, max_depth=10, n_estimators=150;, score=0.997 total time= 6.8min\n",
      "[CV 2/4; 8/27] START ccp_alpha=0, criterion=entropy, max_depth=10, n_estimators=150\n",
      "[CV 2/4; 8/27] END ccp_alpha=0, criterion=entropy, max_depth=10, n_estimators=150;, score=0.999 total time= 6.9min\n",
      "[CV 3/4; 8/27] START ccp_alpha=0, criterion=entropy, max_depth=10, n_estimators=150\n",
      "[CV 3/4; 8/27] END ccp_alpha=0, criterion=entropy, max_depth=10, n_estimators=150;, score=0.997 total time= 6.9min\n",
      "[CV 4/4; 8/27] START ccp_alpha=0, criterion=entropy, max_depth=10, n_estimators=150\n",
      "[CV 4/4; 8/27] END ccp_alpha=0, criterion=entropy, max_depth=10, n_estimators=150;, score=0.997 total time= 6.3min\n",
      "[CV 1/4; 9/27] START ccp_alpha=0, criterion=entropy, max_depth=10, n_estimators=200\n",
      "[CV 1/4; 9/27] END ccp_alpha=0, criterion=entropy, max_depth=10, n_estimators=200;, score=0.997 total time= 9.0min\n",
      "[CV 2/4; 9/27] START ccp_alpha=0, criterion=entropy, max_depth=10, n_estimators=200\n",
      "[CV 2/4; 9/27] END ccp_alpha=0, criterion=entropy, max_depth=10, n_estimators=200;, score=0.999 total time= 9.1min\n",
      "[CV 3/4; 9/27] START ccp_alpha=0, criterion=entropy, max_depth=10, n_estimators=200\n",
      "[CV 3/4; 9/27] END ccp_alpha=0, criterion=entropy, max_depth=10, n_estimators=200;, score=0.997 total time= 9.2min\n",
      "[CV 4/4; 9/27] START ccp_alpha=0, criterion=entropy, max_depth=10, n_estimators=200\n",
      "[CV 4/4; 9/27] END ccp_alpha=0, criterion=entropy, max_depth=10, n_estimators=200;, score=0.996 total time= 9.0min\n",
      "[CV 1/4; 10/27] START ccp_alpha=1e-05, criterion=entropy, max_depth=2, n_estimators=100\n",
      "[CV 1/4; 10/27] END ccp_alpha=1e-05, criterion=entropy, max_depth=2, n_estimators=100;, score=0.996 total time= 1.9min\n",
      "[CV 2/4; 10/27] START ccp_alpha=1e-05, criterion=entropy, max_depth=2, n_estimators=100\n",
      "[CV 2/4; 10/27] END ccp_alpha=1e-05, criterion=entropy, max_depth=2, n_estimators=100;, score=0.998 total time= 2.0min\n",
      "[CV 3/4; 10/27] START ccp_alpha=1e-05, criterion=entropy, max_depth=2, n_estimators=100\n",
      "[CV 3/4; 10/27] END ccp_alpha=1e-05, criterion=entropy, max_depth=2, n_estimators=100;, score=0.996 total time= 1.9min\n",
      "[CV 4/4; 10/27] START ccp_alpha=1e-05, criterion=entropy, max_depth=2, n_estimators=100\n",
      "[CV 4/4; 10/27] END ccp_alpha=1e-05, criterion=entropy, max_depth=2, n_estimators=100;, score=0.996 total time= 1.9min\n",
      "[CV 1/4; 11/27] START ccp_alpha=1e-05, criterion=entropy, max_depth=2, n_estimators=150\n",
      "[CV 1/4; 11/27] END ccp_alpha=1e-05, criterion=entropy, max_depth=2, n_estimators=150;, score=0.997 total time= 3.0min\n",
      "[CV 2/4; 11/27] START ccp_alpha=1e-05, criterion=entropy, max_depth=2, n_estimators=150\n"
     ]
    },
    {
     "name": "stdout",
     "output_type": "stream",
     "text": [
      "[CV 2/4; 11/27] END ccp_alpha=1e-05, criterion=entropy, max_depth=2, n_estimators=150;, score=0.998 total time= 2.8min\n",
      "[CV 3/4; 11/27] START ccp_alpha=1e-05, criterion=entropy, max_depth=2, n_estimators=150\n",
      "[CV 3/4; 11/27] END ccp_alpha=1e-05, criterion=entropy, max_depth=2, n_estimators=150;, score=0.995 total time= 2.9min\n",
      "[CV 4/4; 11/27] START ccp_alpha=1e-05, criterion=entropy, max_depth=2, n_estimators=150\n",
      "[CV 4/4; 11/27] END ccp_alpha=1e-05, criterion=entropy, max_depth=2, n_estimators=150;, score=0.997 total time= 3.0min\n",
      "[CV 1/4; 12/27] START ccp_alpha=1e-05, criterion=entropy, max_depth=2, n_estimators=200\n",
      "[CV 1/4; 12/27] END ccp_alpha=1e-05, criterion=entropy, max_depth=2, n_estimators=200;, score=0.997 total time= 3.9min\n",
      "[CV 2/4; 12/27] START ccp_alpha=1e-05, criterion=entropy, max_depth=2, n_estimators=200\n",
      "[CV 2/4; 12/27] END ccp_alpha=1e-05, criterion=entropy, max_depth=2, n_estimators=200;, score=0.998 total time= 4.0min\n",
      "[CV 3/4; 12/27] START ccp_alpha=1e-05, criterion=entropy, max_depth=2, n_estimators=200\n",
      "[CV 3/4; 12/27] END ccp_alpha=1e-05, criterion=entropy, max_depth=2, n_estimators=200;, score=0.997 total time= 3.9min\n",
      "[CV 4/4; 12/27] START ccp_alpha=1e-05, criterion=entropy, max_depth=2, n_estimators=200\n",
      "[CV 4/4; 12/27] END ccp_alpha=1e-05, criterion=entropy, max_depth=2, n_estimators=200;, score=0.996 total time= 3.8min\n",
      "[CV 1/4; 13/27] START ccp_alpha=1e-05, criterion=entropy, max_depth=5, n_estimators=100\n",
      "[CV 1/4; 13/27] END ccp_alpha=1e-05, criterion=entropy, max_depth=5, n_estimators=100;, score=0.997 total time= 3.7min\n",
      "[CV 2/4; 13/27] START ccp_alpha=1e-05, criterion=entropy, max_depth=5, n_estimators=100\n",
      "[CV 2/4; 13/27] END ccp_alpha=1e-05, criterion=entropy, max_depth=5, n_estimators=100;, score=0.998 total time= 3.6min\n",
      "[CV 3/4; 13/27] START ccp_alpha=1e-05, criterion=entropy, max_depth=5, n_estimators=100\n",
      "[CV 3/4; 13/27] END ccp_alpha=1e-05, criterion=entropy, max_depth=5, n_estimators=100;, score=0.997 total time= 3.7min\n",
      "[CV 4/4; 13/27] START ccp_alpha=1e-05, criterion=entropy, max_depth=5, n_estimators=100\n",
      "[CV 4/4; 13/27] END ccp_alpha=1e-05, criterion=entropy, max_depth=5, n_estimators=100;, score=0.997 total time= 3.6min\n",
      "[CV 1/4; 14/27] START ccp_alpha=1e-05, criterion=entropy, max_depth=5, n_estimators=150\n",
      "[CV 1/4; 14/27] END ccp_alpha=1e-05, criterion=entropy, max_depth=5, n_estimators=150;, score=0.997 total time= 5.4min\n",
      "[CV 2/4; 14/27] START ccp_alpha=1e-05, criterion=entropy, max_depth=5, n_estimators=150\n",
      "[CV 2/4; 14/27] END ccp_alpha=1e-05, criterion=entropy, max_depth=5, n_estimators=150;, score=0.999 total time= 5.4min\n",
      "[CV 3/4; 14/27] START ccp_alpha=1e-05, criterion=entropy, max_depth=5, n_estimators=150\n",
      "[CV 3/4; 14/27] END ccp_alpha=1e-05, criterion=entropy, max_depth=5, n_estimators=150;, score=0.997 total time= 5.3min\n",
      "[CV 4/4; 14/27] START ccp_alpha=1e-05, criterion=entropy, max_depth=5, n_estimators=150\n",
      "[CV 4/4; 14/27] END ccp_alpha=1e-05, criterion=entropy, max_depth=5, n_estimators=150;, score=0.997 total time= 5.2min\n",
      "[CV 1/4; 15/27] START ccp_alpha=1e-05, criterion=entropy, max_depth=5, n_estimators=200\n",
      "[CV 1/4; 15/27] END ccp_alpha=1e-05, criterion=entropy, max_depth=5, n_estimators=200;, score=0.997 total time= 7.1min\n",
      "[CV 2/4; 15/27] START ccp_alpha=1e-05, criterion=entropy, max_depth=5, n_estimators=200\n",
      "[CV 2/4; 15/27] END ccp_alpha=1e-05, criterion=entropy, max_depth=5, n_estimators=200;, score=0.999 total time= 7.2min\n",
      "[CV 3/4; 15/27] START ccp_alpha=1e-05, criterion=entropy, max_depth=5, n_estimators=200\n",
      "[CV 3/4; 15/27] END ccp_alpha=1e-05, criterion=entropy, max_depth=5, n_estimators=200;, score=0.997 total time= 7.5min\n",
      "[CV 4/4; 15/27] START ccp_alpha=1e-05, criterion=entropy, max_depth=5, n_estimators=200\n",
      "[CV 4/4; 15/27] END ccp_alpha=1e-05, criterion=entropy, max_depth=5, n_estimators=200;, score=0.998 total time= 7.3min\n",
      "[CV 1/4; 16/27] START ccp_alpha=1e-05, criterion=entropy, max_depth=10, n_estimators=100\n",
      "[CV 1/4; 16/27] END ccp_alpha=1e-05, criterion=entropy, max_depth=10, n_estimators=100;, score=0.998 total time= 4.5min\n",
      "[CV 2/4; 16/27] START ccp_alpha=1e-05, criterion=entropy, max_depth=10, n_estimators=100\n",
      "[CV 2/4; 16/27] END ccp_alpha=1e-05, criterion=entropy, max_depth=10, n_estimators=100;, score=0.999 total time= 4.7min\n",
      "[CV 3/4; 16/27] START ccp_alpha=1e-05, criterion=entropy, max_depth=10, n_estimators=100\n",
      "[CV 3/4; 16/27] END ccp_alpha=1e-05, criterion=entropy, max_depth=10, n_estimators=100;, score=0.997 total time= 4.6min\n",
      "[CV 4/4; 16/27] START ccp_alpha=1e-05, criterion=entropy, max_depth=10, n_estimators=100\n",
      "[CV 4/4; 16/27] END ccp_alpha=1e-05, criterion=entropy, max_depth=10, n_estimators=100;, score=0.998 total time= 4.4min\n",
      "[CV 1/4; 17/27] START ccp_alpha=1e-05, criterion=entropy, max_depth=10, n_estimators=150\n",
      "[CV 1/4; 17/27] END ccp_alpha=1e-05, criterion=entropy, max_depth=10, n_estimators=150;, score=0.997 total time= 6.7min\n",
      "[CV 2/4; 17/27] START ccp_alpha=1e-05, criterion=entropy, max_depth=10, n_estimators=150\n",
      "[CV 2/4; 17/27] END ccp_alpha=1e-05, criterion=entropy, max_depth=10, n_estimators=150;, score=0.999 total time= 6.9min\n",
      "[CV 3/4; 17/27] START ccp_alpha=1e-05, criterion=entropy, max_depth=10, n_estimators=150\n",
      "[CV 3/4; 17/27] END ccp_alpha=1e-05, criterion=entropy, max_depth=10, n_estimators=150;, score=0.997 total time= 6.6min\n",
      "[CV 4/4; 17/27] START ccp_alpha=1e-05, criterion=entropy, max_depth=10, n_estimators=150\n",
      "[CV 4/4; 17/27] END ccp_alpha=1e-05, criterion=entropy, max_depth=10, n_estimators=150;, score=0.998 total time= 6.7min\n",
      "[CV 1/4; 18/27] START ccp_alpha=1e-05, criterion=entropy, max_depth=10, n_estimators=200\n",
      "[CV 1/4; 18/27] END ccp_alpha=1e-05, criterion=entropy, max_depth=10, n_estimators=200;, score=0.997 total time= 9.0min\n",
      "[CV 2/4; 18/27] START ccp_alpha=1e-05, criterion=entropy, max_depth=10, n_estimators=200\n",
      "[CV 2/4; 18/27] END ccp_alpha=1e-05, criterion=entropy, max_depth=10, n_estimators=200;, score=0.999 total time= 9.3min\n",
      "[CV 3/4; 18/27] START ccp_alpha=1e-05, criterion=entropy, max_depth=10, n_estimators=200\n",
      "[CV 3/4; 18/27] END ccp_alpha=1e-05, criterion=entropy, max_depth=10, n_estimators=200;, score=0.997 total time= 8.9min\n",
      "[CV 4/4; 18/27] START ccp_alpha=1e-05, criterion=entropy, max_depth=10, n_estimators=200\n",
      "[CV 4/4; 18/27] END ccp_alpha=1e-05, criterion=entropy, max_depth=10, n_estimators=200;, score=0.998 total time= 8.9min\n",
      "[CV 1/4; 19/27] START ccp_alpha=0.0001, criterion=entropy, max_depth=2, n_estimators=100\n",
      "[CV 1/4; 19/27] END ccp_alpha=0.0001, criterion=entropy, max_depth=2, n_estimators=100;, score=0.996 total time= 2.0min\n",
      "[CV 2/4; 19/27] START ccp_alpha=0.0001, criterion=entropy, max_depth=2, n_estimators=100\n",
      "[CV 2/4; 19/27] END ccp_alpha=0.0001, criterion=entropy, max_depth=2, n_estimators=100;, score=0.998 total time= 2.0min\n",
      "[CV 3/4; 19/27] START ccp_alpha=0.0001, criterion=entropy, max_depth=2, n_estimators=100\n",
      "[CV 3/4; 19/27] END ccp_alpha=0.0001, criterion=entropy, max_depth=2, n_estimators=100;, score=0.996 total time= 2.0min\n",
      "[CV 4/4; 19/27] START ccp_alpha=0.0001, criterion=entropy, max_depth=2, n_estimators=100\n",
      "[CV 4/4; 19/27] END ccp_alpha=0.0001, criterion=entropy, max_depth=2, n_estimators=100;, score=0.996 total time= 2.0min\n",
      "[CV 1/4; 20/27] START ccp_alpha=0.0001, criterion=entropy, max_depth=2, n_estimators=150\n",
      "[CV 1/4; 20/27] END ccp_alpha=0.0001, criterion=entropy, max_depth=2, n_estimators=150;, score=0.997 total time= 2.8min\n",
      "[CV 2/4; 20/27] START ccp_alpha=0.0001, criterion=entropy, max_depth=2, n_estimators=150\n",
      "[CV 2/4; 20/27] END ccp_alpha=0.0001, criterion=entropy, max_depth=2, n_estimators=150;, score=0.998 total time= 2.9min\n",
      "[CV 3/4; 20/27] START ccp_alpha=0.0001, criterion=entropy, max_depth=2, n_estimators=150\n",
      "[CV 3/4; 20/27] END ccp_alpha=0.0001, criterion=entropy, max_depth=2, n_estimators=150;, score=0.996 total time= 2.9min\n",
      "[CV 4/4; 20/27] START ccp_alpha=0.0001, criterion=entropy, max_depth=2, n_estimators=150\n",
      "[CV 4/4; 20/27] END ccp_alpha=0.0001, criterion=entropy, max_depth=2, n_estimators=150;, score=0.997 total time= 2.9min\n",
      "[CV 1/4; 21/27] START ccp_alpha=0.0001, criterion=entropy, max_depth=2, n_estimators=200\n",
      "[CV 1/4; 21/27] END ccp_alpha=0.0001, criterion=entropy, max_depth=2, n_estimators=200;, score=0.996 total time= 3.8min\n",
      "[CV 2/4; 21/27] START ccp_alpha=0.0001, criterion=entropy, max_depth=2, n_estimators=200\n"
     ]
    },
    {
     "name": "stdout",
     "output_type": "stream",
     "text": [
      "[CV 2/4; 21/27] END ccp_alpha=0.0001, criterion=entropy, max_depth=2, n_estimators=200;, score=0.998 total time= 3.8min\n",
      "[CV 3/4; 21/27] START ccp_alpha=0.0001, criterion=entropy, max_depth=2, n_estimators=200\n",
      "[CV 3/4; 21/27] END ccp_alpha=0.0001, criterion=entropy, max_depth=2, n_estimators=200;, score=0.996 total time= 3.8min\n",
      "[CV 4/4; 21/27] START ccp_alpha=0.0001, criterion=entropy, max_depth=2, n_estimators=200\n",
      "[CV 4/4; 21/27] END ccp_alpha=0.0001, criterion=entropy, max_depth=2, n_estimators=200;, score=0.996 total time= 3.9min\n",
      "[CV 1/4; 22/27] START ccp_alpha=0.0001, criterion=entropy, max_depth=5, n_estimators=100\n",
      "[CV 1/4; 22/27] END ccp_alpha=0.0001, criterion=entropy, max_depth=5, n_estimators=100;, score=0.996 total time= 3.5min\n",
      "[CV 2/4; 22/27] START ccp_alpha=0.0001, criterion=entropy, max_depth=5, n_estimators=100\n",
      "[CV 2/4; 22/27] END ccp_alpha=0.0001, criterion=entropy, max_depth=5, n_estimators=100;, score=0.998 total time= 3.8min\n",
      "[CV 3/4; 22/27] START ccp_alpha=0.0001, criterion=entropy, max_depth=5, n_estimators=100\n",
      "[CV 3/4; 22/27] END ccp_alpha=0.0001, criterion=entropy, max_depth=5, n_estimators=100;, score=0.996 total time= 3.6min\n",
      "[CV 4/4; 22/27] START ccp_alpha=0.0001, criterion=entropy, max_depth=5, n_estimators=100\n",
      "[CV 4/4; 22/27] END ccp_alpha=0.0001, criterion=entropy, max_depth=5, n_estimators=100;, score=0.997 total time= 3.6min\n",
      "[CV 1/4; 23/27] START ccp_alpha=0.0001, criterion=entropy, max_depth=5, n_estimators=150\n",
      "[CV 1/4; 23/27] END ccp_alpha=0.0001, criterion=entropy, max_depth=5, n_estimators=150;, score=0.997 total time= 5.3min\n",
      "[CV 2/4; 23/27] START ccp_alpha=0.0001, criterion=entropy, max_depth=5, n_estimators=150\n",
      "[CV 2/4; 23/27] END ccp_alpha=0.0001, criterion=entropy, max_depth=5, n_estimators=150;, score=0.998 total time= 5.5min\n",
      "[CV 3/4; 23/27] START ccp_alpha=0.0001, criterion=entropy, max_depth=5, n_estimators=150\n",
      "[CV 3/4; 23/27] END ccp_alpha=0.0001, criterion=entropy, max_depth=5, n_estimators=150;, score=0.997 total time= 5.5min\n",
      "[CV 4/4; 23/27] START ccp_alpha=0.0001, criterion=entropy, max_depth=5, n_estimators=150\n",
      "[CV 4/4; 23/27] END ccp_alpha=0.0001, criterion=entropy, max_depth=5, n_estimators=150;, score=0.997 total time= 5.2min\n",
      "[CV 1/4; 24/27] START ccp_alpha=0.0001, criterion=entropy, max_depth=5, n_estimators=200\n",
      "[CV 1/4; 24/27] END ccp_alpha=0.0001, criterion=entropy, max_depth=5, n_estimators=200;, score=0.997 total time= 7.2min\n",
      "[CV 2/4; 24/27] START ccp_alpha=0.0001, criterion=entropy, max_depth=5, n_estimators=200\n",
      "[CV 2/4; 24/27] END ccp_alpha=0.0001, criterion=entropy, max_depth=5, n_estimators=200;, score=0.998 total time= 7.3min\n",
      "[CV 3/4; 24/27] START ccp_alpha=0.0001, criterion=entropy, max_depth=5, n_estimators=200\n",
      "[CV 3/4; 24/27] END ccp_alpha=0.0001, criterion=entropy, max_depth=5, n_estimators=200;, score=0.997 total time= 7.4min\n",
      "[CV 4/4; 24/27] START ccp_alpha=0.0001, criterion=entropy, max_depth=5, n_estimators=200\n",
      "[CV 4/4; 24/27] END ccp_alpha=0.0001, criterion=entropy, max_depth=5, n_estimators=200;, score=0.997 total time= 7.1min\n",
      "[CV 1/4; 25/27] START ccp_alpha=0.0001, criterion=entropy, max_depth=10, n_estimators=100\n",
      "[CV 1/4; 25/27] END ccp_alpha=0.0001, criterion=entropy, max_depth=10, n_estimators=100;, score=0.997 total time= 4.5min\n",
      "[CV 2/4; 25/27] START ccp_alpha=0.0001, criterion=entropy, max_depth=10, n_estimators=100\n",
      "[CV 2/4; 25/27] END ccp_alpha=0.0001, criterion=entropy, max_depth=10, n_estimators=100;, score=0.998 total time= 4.7min\n",
      "[CV 3/4; 25/27] START ccp_alpha=0.0001, criterion=entropy, max_depth=10, n_estimators=100\n",
      "[CV 3/4; 25/27] END ccp_alpha=0.0001, criterion=entropy, max_depth=10, n_estimators=100;, score=0.997 total time= 4.5min\n",
      "[CV 4/4; 25/27] START ccp_alpha=0.0001, criterion=entropy, max_depth=10, n_estimators=100\n",
      "[CV 4/4; 25/27] END ccp_alpha=0.0001, criterion=entropy, max_depth=10, n_estimators=100;, score=0.997 total time= 4.7min\n",
      "[CV 1/4; 26/27] START ccp_alpha=0.0001, criterion=entropy, max_depth=10, n_estimators=150\n",
      "[CV 1/4; 26/27] END ccp_alpha=0.0001, criterion=entropy, max_depth=10, n_estimators=150;, score=0.997 total time= 6.8min\n",
      "[CV 2/4; 26/27] START ccp_alpha=0.0001, criterion=entropy, max_depth=10, n_estimators=150\n",
      "[CV 2/4; 26/27] END ccp_alpha=0.0001, criterion=entropy, max_depth=10, n_estimators=150;, score=0.999 total time= 6.9min\n",
      "[CV 3/4; 26/27] START ccp_alpha=0.0001, criterion=entropy, max_depth=10, n_estimators=150\n",
      "[CV 3/4; 26/27] END ccp_alpha=0.0001, criterion=entropy, max_depth=10, n_estimators=150;, score=0.996 total time= 7.0min\n",
      "[CV 4/4; 26/27] START ccp_alpha=0.0001, criterion=entropy, max_depth=10, n_estimators=150\n",
      "[CV 4/4; 26/27] END ccp_alpha=0.0001, criterion=entropy, max_depth=10, n_estimators=150;, score=0.998 total time= 6.5min\n",
      "[CV 1/4; 27/27] START ccp_alpha=0.0001, criterion=entropy, max_depth=10, n_estimators=200\n",
      "[CV 1/4; 27/27] END ccp_alpha=0.0001, criterion=entropy, max_depth=10, n_estimators=200;, score=0.997 total time= 9.1min\n",
      "[CV 2/4; 27/27] START ccp_alpha=0.0001, criterion=entropy, max_depth=10, n_estimators=200\n",
      "[CV 2/4; 27/27] END ccp_alpha=0.0001, criterion=entropy, max_depth=10, n_estimators=200;, score=0.998 total time= 9.2min\n",
      "[CV 3/4; 27/27] START ccp_alpha=0.0001, criterion=entropy, max_depth=10, n_estimators=200\n",
      "[CV 3/4; 27/27] END ccp_alpha=0.0001, criterion=entropy, max_depth=10, n_estimators=200;, score=0.996 total time= 8.9min\n",
      "[CV 4/4; 27/27] START ccp_alpha=0.0001, criterion=entropy, max_depth=10, n_estimators=200\n",
      "[CV 4/4; 27/27] END ccp_alpha=0.0001, criterion=entropy, max_depth=10, n_estimators=200;, score=0.997 total time= 9.0min\n"
     ]
    }
   ],
   "source": [
    "if train_rf:\n",
    "    # Specify scoring criterion\n",
    "    criterion = make_scorer(roc_auc_score, needs_proba=True)\n",
    "\n",
    "    clf_rf = RandomForestClassifier()\n",
    "\n",
    "    param_grid = dict(criterion=['entropy'],\n",
    "                      max_depth=[2, 5, 10],\n",
    "                      ccp_alpha=[0, 1e-5, 1e-4],\n",
    "                      n_estimators=[100, 150, 200]\n",
    "                      )\n",
    "\n",
    "    grid_result_rf = grid_search(clf_rf, criterion, param_grid, k=4, X=X_train, y=y_train)\n",
    "    \n",
    "    # Choose best parameters from hyperparameter tuning\n",
    "    clf_rf = grid_result_rf.best_estimator_\n",
    "\n",
    "    # save best decision tree model\n",
    "    pickle.dump(clf_rf, open('models/model_rf.sav', 'wb'))"
   ]
  },
  {
   "cell_type": "code",
   "execution_count": 11,
   "id": "b2dbb84d",
   "metadata": {},
   "outputs": [],
   "source": [
    "if train_rf:\n",
    "    get_gridsearch_results(grid_result_rf)"
   ]
  },
  {
   "cell_type": "code",
   "execution_count": 12,
   "id": "c2679ba8",
   "metadata": {},
   "outputs": [],
   "source": [
    "# read best decision rf model\n",
    "clf_rf = pickle.load(open('models/model_rf.sav', 'rb'))"
   ]
  },
  {
   "cell_type": "markdown",
   "id": "7b6610b7",
   "metadata": {},
   "source": [
    "## Compare Models"
   ]
  },
  {
   "cell_type": "code",
   "execution_count": 13,
   "id": "f8ceb14b",
   "metadata": {},
   "outputs": [],
   "source": [
    "clfs = [clf_tree, clf_rf]\n",
    "clf_names = ['decision_tree', 'random_forest']"
   ]
  },
  {
   "cell_type": "code",
   "execution_count": 14,
   "id": "b6baf5d2",
   "metadata": {},
   "outputs": [
    {
     "data": {
      "text/html": [
       "<div>\n",
       "<style scoped>\n",
       "    .dataframe tbody tr th:only-of-type {\n",
       "        vertical-align: middle;\n",
       "    }\n",
       "\n",
       "    .dataframe tbody tr th {\n",
       "        vertical-align: top;\n",
       "    }\n",
       "\n",
       "    .dataframe thead th {\n",
       "        text-align: right;\n",
       "    }\n",
       "</style>\n",
       "<table border=\"1\" class=\"dataframe\">\n",
       "  <thead>\n",
       "    <tr style=\"text-align: right;\">\n",
       "      <th></th>\n",
       "      <th>decision_tree</th>\n",
       "      <th>random_forest</th>\n",
       "    </tr>\n",
       "  </thead>\n",
       "  <tbody>\n",
       "    <tr>\n",
       "      <th>accuracy_train</th>\n",
       "      <td>0.999994</td>\n",
       "      <td>0.999944</td>\n",
       "    </tr>\n",
       "    <tr>\n",
       "      <th>recall_train</th>\n",
       "      <td>0.993394</td>\n",
       "      <td>0.933526</td>\n",
       "    </tr>\n",
       "    <tr>\n",
       "      <th>precision_train</th>\n",
       "      <td>0.999585</td>\n",
       "      <td>1.000000</td>\n",
       "    </tr>\n",
       "    <tr>\n",
       "      <th>roc_auc_train</th>\n",
       "      <td>0.998185</td>\n",
       "      <td>0.998384</td>\n",
       "    </tr>\n",
       "    <tr>\n",
       "      <th>accuracy_test</th>\n",
       "      <td>0.999990</td>\n",
       "      <td>0.999936</td>\n",
       "    </tr>\n",
       "    <tr>\n",
       "      <th>recall_test</th>\n",
       "      <td>0.991749</td>\n",
       "      <td>0.925743</td>\n",
       "    </tr>\n",
       "    <tr>\n",
       "      <th>precision_test</th>\n",
       "      <td>0.996683</td>\n",
       "      <td>0.998221</td>\n",
       "    </tr>\n",
       "    <tr>\n",
       "      <th>roc_auc_test</th>\n",
       "      <td>0.997380</td>\n",
       "      <td>0.998015</td>\n",
       "    </tr>\n",
       "  </tbody>\n",
       "</table>\n",
       "</div>"
      ],
      "text/plain": [
       "                 decision_tree  random_forest\n",
       "accuracy_train        0.999994       0.999944\n",
       "recall_train          0.993394       0.933526\n",
       "precision_train       0.999585       1.000000\n",
       "roc_auc_train         0.998185       0.998384\n",
       "accuracy_test         0.999990       0.999936\n",
       "recall_test           0.991749       0.925743\n",
       "precision_test        0.996683       0.998221\n",
       "roc_auc_test          0.997380       0.998015"
      ]
     },
     "execution_count": 14,
     "metadata": {},
     "output_type": "execute_result"
    }
   ],
   "source": [
    "compare_models(clfs, clf_names, X_train, y_train, X_test, y_test)"
   ]
  },
  {
   "cell_type": "code",
   "execution_count": 15,
   "id": "f79c33a0",
   "metadata": {
    "scrolled": false
   },
   "outputs": [
    {
     "name": "stdout",
     "output_type": "stream",
     "text": [
      "Getting results for decision_tree model\n"
     ]
    },
    {
     "data": {
      "image/png": "[encoded data removed]",
      "text/plain": [
       "<Figure size 1000x500 with 2 Axes>"
      ]
     },
     "metadata": {},
     "output_type": "display_data"
    },
    {
     "name": "stdout",
     "output_type": "stream",
     "text": [
      "Getting results for random_forest model\n"
     ]
    },
    {
     "data": {
      "image/png": "[encoded data removed]",
      "text/plain": [
       "<Figure size 1000x500 with 2 Axes>"
      ]
     },
     "metadata": {},
     "output_type": "display_data"
    }
   ],
   "source": [
    "# Get plots\n",
    "for i in range(len(clfs)):\n",
    "    clf = clfs[i]\n",
    "    print(f\"Getting results for {clf_names[i]} model\")\n",
    "    plot_roc_auc(clf)\n",
    "#     plot_importances(clf)"
   ]
  },
  {
   "cell_type": "code",
   "execution_count": null,
   "id": "559f6378",
   "metadata": {},
   "outputs": [],
   "source": []
  }
 ],
 "metadata": {
  "kernelspec": {
   "display_name": "Python 3 (ipykernel)",
   "language": "python",
   "name": "python3"
  },
  "language_info": {
   "codemirror_mode": {
    "name": "ipython",
    "version": 3
   },
   "file_extension": ".py",
   "mimetype": "text/x-python",
   "name": "python",
   "nbconvert_exporter": "python",
   "pygments_lexer": "ipython3",
   "version": "3.10.6"
  }
 },
 "nbformat": 4,
 "nbformat_minor": 5
}
