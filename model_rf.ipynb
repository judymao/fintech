{
 "cells": [
  {
   "cell_type": "markdown",
   "id": "05690754",
   "metadata": {},
   "source": [
    "# Models: Decision Tree, Random Forest"
   ]
  },
  {
   "cell_type": "code",
   "execution_count": 26,
   "id": "dcdcf4c9",
   "metadata": {},
   "outputs": [],
   "source": [
    "# Import relevant packages\n",
    "import matplotlib.pyplot as plt\n",
    "%matplotlib inline\n",
    "\n",
    "import numpy as np\n",
    "import pandas as pd\n",
    "import seaborn as sns\n",
    "\n",
    "from sklearn.preprocessing import StandardScaler\n",
    "from sklearn.model_selection import cross_val_score, train_test_split, GridSearchCV\n",
    "from sklearn.metrics import make_scorer, accuracy_score, recall_score, roc_auc_score, precision_score\n",
    "from sklearn.metrics import plot_confusion_matrix, auc, roc_curve, plot_roc_curve, plot_precision_recall_curve\n",
    "from sklearn.ensemble import RandomForestClassifier, BaggingClassifier, AdaBoostClassifier\n",
    "from sklearn.tree import DecisionTreeClassifier\n",
    "\n",
    "from utils import process_data"
   ]
  },
  {
   "cell_type": "code",
   "execution_count": 4,
   "id": "01d52024",
   "metadata": {},
   "outputs": [
    {
     "name": "stdout",
     "output_type": "stream",
     "text": [
      "Beginning data processing ...\n",
      "Reading in batched data ...\n"
     ]
    },
    {
     "name": "stderr",
     "output_type": "stream",
     "text": [
      "100%|███████████████████████████████████████████| 19/19 [00:07<00:00,  2.67it/s]\n"
     ]
    },
    {
     "name": "stdout",
     "output_type": "stream",
     "text": [
      "Splitting data into train and test ...\n",
      "Scaling data ...\n",
      "Completed normal data processing.\n"
     ]
    }
   ],
   "source": [
    "data = process_data(type_ = 'normal')"
   ]
  },
  {
   "cell_type": "code",
   "execution_count": 5,
   "id": "23828c3b",
   "metadata": {},
   "outputs": [],
   "source": [
    "X_train = data['X_train_scaled']\n",
    "y_train = data['y_train']\n",
    "\n",
    "X_test = data['X_test_scaled']\n",
    "y_test = data['y_test']"
   ]
  },
  {
   "cell_type": "markdown",
   "id": "e2a11b57",
   "metadata": {},
   "source": [
    "## Useful Functions"
   ]
  },
  {
   "cell_type": "code",
   "execution_count": 6,
   "id": "fc0465e8",
   "metadata": {},
   "outputs": [],
   "source": [
    "def plot_roc(clf, X, y, title):\n",
    "    fpr, tpr, thresholds = roc_curve(y, clf.predict_proba(X)[:, 1])\n",
    "    auc_ = auc(fpr, tpr)\n",
    "\n",
    "    plt.figure(1)\n",
    "    plt.plot([0, 1], [0, 1], '--')\n",
    "    plt.plot(fpr, tpr, label='area = {:.3f}'.format(auc_))\n",
    "    plt.xlabel('False positive rate')\n",
    "    plt.ylabel('True positive rate')\n",
    "    plt.title(title)\n",
    "    plt.legend(loc='best')\n",
    "    plt.show()"
   ]
  },
  {
   "cell_type": "code",
   "execution_count": 11,
   "id": "631022ca",
   "metadata": {},
   "outputs": [],
   "source": [
    "def plot_impurities(clf):\n",
    "    importances_impurity = clf.feature_importances_\n",
    "    impurity_importances = pd.Series(importances_impurity).nlargest(10) \n",
    "    # select the 10 X variables with largest feature importance values\n",
    "    fig, ax = plt.subplots()\n",
    "    impurity_importances.plot.bar(ax=ax)\n",
    "    ax.set_title(\"Feature importances using MDI (mean decrease in impurity)\")\n",
    "    ax.set_ylabel(\"Mean decrease in impurity\")\n",
    "    fig.tight_layout()"
   ]
  },
  {
   "cell_type": "code",
   "execution_count": 12,
   "id": "620d507e",
   "metadata": {},
   "outputs": [],
   "source": [
    "def plot_permutations(clf):\n",
    "    importances_permutation = permutation_importance(\n",
    "        clf, X_test, y_test, n_repeats=10, random_state=42, n_jobs=2\n",
    "    )\n",
    "    permutation_importances = pd.Series(importances_permutation.importances_mean).nlargest(10)\n",
    "\n",
    "    fig, ax = plt.subplots()\n",
    "    permutation_importances.plot.bar(ax=ax)\n",
    "    ax.set_title(\"Feature importances using permutation importances\")\n",
    "    ax.set_ylabel(\"Mean decrease in accuracy\")\n",
    "    fig.tight_layout()"
   ]
  },
  {
   "cell_type": "code",
   "execution_count": 19,
   "id": "80ddad32",
   "metadata": {},
   "outputs": [],
   "source": [
    "def grid_search(clf, X_train, y_train, criterion, param_grid):\n",
    "    # Testing through a 5-fold CV and finding the combination that yields the highest criterion\n",
    "    grid = GridSearchCV(estimator=clf,\n",
    "                        param_grid=param_grid,\n",
    "                        scoring=criterion,\n",
    "                        verbose=2,\n",
    "                        cv=5,\n",
    "                        n_jobs=-1)\n",
    "\n",
    "    grid_result = grid.fit(X_train, y_train)\n",
    "    return grid_result"
   ]
  },
  {
   "cell_type": "markdown",
   "id": "3c2358e3",
   "metadata": {},
   "source": [
    "## Decision Tree Model"
   ]
  },
  {
   "cell_type": "code",
   "execution_count": 20,
   "id": "88f142cf",
   "metadata": {},
   "outputs": [],
   "source": [
    "# Specify scoring criterion\n",
    "criterion = make_scorer(roc_auc_score, needs_proba=True)"
   ]
  },
  {
   "cell_type": "code",
   "execution_count": 22,
   "id": "e86c0e70",
   "metadata": {},
   "outputs": [
    {
     "name": "stdout",
     "output_type": "stream",
     "text": [
      "Fitting 5 folds for each of 1 candidates, totalling 5 fits\n"
     ]
    }
   ],
   "source": [
    "clf_tree = DecisionTreeClassifier()\n",
    "\n",
    "# param_grid = dict(criterion=['gini', 'entropy'],\n",
    "#                   min_samples_split=[2, 5, 10],\n",
    "#                   max_depth=[2, 5, 10],\n",
    "#                   ccp_alpha=[0, 0.00001, 0.0001])\n",
    "\n",
    "param_grid = dict(max_depth = [2])\n",
    "\n",
    "grid_result_tree = grid_search(clf_tree, X_train, y_train, criterion, param_grid)"
   ]
  },
  {
   "cell_type": "code",
   "execution_count": 25,
   "id": "33fc59ed",
   "metadata": {},
   "outputs": [],
   "source": [
    "# Choose best parameters from hyperparameter tuning\n",
    "clf_tree = DecisionTreeClassifier(**grid_result_tree.best_params_).fit(X_train, y_train)"
   ]
  },
  {
   "cell_type": "code",
   "execution_count": 28,
   "id": "c42dde29",
   "metadata": {},
   "outputs": [
    {
     "data": {
      "text/html": [
       "<div>\n",
       "<style scoped>\n",
       "    .dataframe tbody tr th:only-of-type {\n",
       "        vertical-align: middle;\n",
       "    }\n",
       "\n",
       "    .dataframe tbody tr th {\n",
       "        vertical-align: top;\n",
       "    }\n",
       "\n",
       "    .dataframe thead th {\n",
       "        text-align: right;\n",
       "    }\n",
       "</style>\n",
       "<table border=\"1\" class=\"dataframe\">\n",
       "  <thead>\n",
       "    <tr style=\"text-align: right;\">\n",
       "      <th></th>\n",
       "      <th>model</th>\n",
       "      <th>accuracy_train</th>\n",
       "      <th>recall_train</th>\n",
       "      <th>precision_train</th>\n",
       "      <th>roc_auc_train</th>\n",
       "      <th>accuracy_test</th>\n",
       "      <th>recall_test</th>\n",
       "      <th>precision_test</th>\n",
       "      <th>roc_auc_test</th>\n",
       "    </tr>\n",
       "  </thead>\n",
       "  <tbody>\n",
       "    <tr>\n",
       "      <th>0</th>\n",
       "      <td>decision tree</td>\n",
       "      <td>0.999426</td>\n",
       "      <td>0.31379</td>\n",
       "      <td>1.0</td>\n",
       "      <td>0.656895</td>\n",
       "      <td>0.999436</td>\n",
       "      <td>0.326733</td>\n",
       "      <td>1.0</td>\n",
       "      <td>0.663366</td>\n",
       "    </tr>\n",
       "  </tbody>\n",
       "</table>\n",
       "</div>"
      ],
      "text/plain": [
       "           model  accuracy_train  recall_train  precision_train  \\\n",
       "0  decision tree        0.999426       0.31379              1.0   \n",
       "\n",
       "   roc_auc_train  accuracy_test  recall_test  precision_test  roc_auc_test  \n",
       "0       0.656895       0.999436     0.326733             1.0      0.663366  "
      ]
     },
     "execution_count": 28,
     "metadata": {},
     "output_type": "execute_result"
    }
   ],
   "source": [
    "y_pred_train = clf_tree.predict(X_train)\n",
    "y_pred_test = clf_tree.predict(X_test)\n",
    "\n",
    "results_tree = pd.DataFrame(dict(model = ['decision tree'],\n",
    "                                 accuracy_train = [accuracy_score(y_train, y_pred_train)],\n",
    "                                 recall_train = [recall_score(y_train, y_pred_train)],\n",
    "                                 precision_train = [precision_score(y_train, y_pred_train)],\n",
    "                                 roc_auc_train = [roc_auc_score(y_train, y_pred_train)],\n",
    "                                 accuracy_test = [accuracy_score(y_test, y_pred_test)],\n",
    "                                 recall_test = [recall_score(y_test, y_pred_test)],\n",
    "                                 precision_test = [precision_score(y_test, y_pred_test)],\n",
    "                                 roc_auc_test = [roc_auc_score(y_test, y_pred_test)],\n",
    "                                ))\n",
    "results_tree"
   ]
  },
  {
   "cell_type": "code",
   "execution_count": null,
   "id": "39d928ec",
   "metadata": {},
   "outputs": [],
   "source": []
  }
 ],
 "metadata": {
  "kernelspec": {
   "display_name": "Python 3 (ipykernel)",
   "language": "python",
   "name": "python3"
  },
  "language_info": {
   "codemirror_mode": {
    "name": "ipython",
    "version": 3
   },
   "file_extension": ".py",
   "mimetype": "text/x-python",
   "name": "python",
   "nbconvert_exporter": "python",
   "pygments_lexer": "ipython3",
   "version": "3.10.6"
  }
 },
 "nbformat": 4,
 "nbformat_minor": 5
}
