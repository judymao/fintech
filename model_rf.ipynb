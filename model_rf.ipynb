{
 "cells": [
  {
   "cell_type": "markdown",
   "id": "05690754",
   "metadata": {},
   "source": [
    "# Models: Decision Tree, Random Forest"
   ]
  },
  {
   "cell_type": "code",
   "execution_count": 1,
   "id": "dcdcf4c9",
   "metadata": {},
   "outputs": [],
   "source": [
    "# Import relevant packages\n",
    "import matplotlib.pyplot as plt\n",
    "%matplotlib inline\n",
    "\n",
    "import numpy as np\n",
    "import pandas as pd\n",
    "import seaborn as sns\n",
    "import pickle\n",
    "\n",
    "from sklearn.preprocessing import StandardScaler\n",
    "from sklearn.model_selection import cross_val_score, train_test_split, GridSearchCV\n",
    "from sklearn.metrics import make_scorer, accuracy_score, recall_score, roc_auc_score, precision_score\n",
    "from sklearn.metrics import plot_confusion_matrix, auc, roc_curve, plot_roc_curve, plot_precision_recall_curve\n",
    "from sklearn.inspection import permutation_importance\n",
    "from sklearn.ensemble import RandomForestClassifier, BaggingClassifier, AdaBoostClassifier\n",
    "from sklearn.tree import DecisionTreeClassifier\n",
    "\n",
    "from utils import process_data"
   ]
  },
  {
   "cell_type": "code",
   "execution_count": 2,
   "id": "01d52024",
   "metadata": {},
   "outputs": [
    {
     "name": "stdout",
     "output_type": "stream",
     "text": [
      "Beginning data processing ...\n",
      "Reading in batched data ...\n"
     ]
    },
    {
     "name": "stderr",
     "output_type": "stream",
     "text": [
      "100%|███████████████████████████████████████████| 19/19 [00:06<00:00,  2.86it/s]\n"
     ]
    },
    {
     "name": "stdout",
     "output_type": "stream",
     "text": [
      "Splitting data into train and test ...\n",
      "Scaling data ...\n",
      "Completed normal data processing.\n"
     ]
    }
   ],
   "source": [
    "data = process_data(type_ = 'normal')"
   ]
  },
  {
   "cell_type": "code",
   "execution_count": 3,
   "id": "23828c3b",
   "metadata": {},
   "outputs": [],
   "source": [
    "X_train = data['X_train_scaled']\n",
    "y_train = data['y_train']\n",
    "\n",
    "X_test = data['X_test_scaled']\n",
    "y_test = data['y_test']"
   ]
  },
  {
   "cell_type": "markdown",
   "id": "e2a11b57",
   "metadata": {},
   "source": [
    "## Useful Functions"
   ]
  },
  {
   "cell_type": "code",
   "execution_count": 4,
   "id": "fc0465e8",
   "metadata": {},
   "outputs": [],
   "source": [
    "def plot_roc_auc(clf):\n",
    "    fig, (ax1, ax2) = plt.subplots(1, 2, figsize=(10, 5))\n",
    "    \n",
    "    fpr, tpr, thresholds = roc_curve(y_train, clf.predict_proba(X_train)[:, 1])\n",
    "    auc_ = auc(fpr, tpr)\n",
    "\n",
    "    ax1.plot([0, 1], [0, 1], '--')\n",
    "    ax1.plot(fpr, tpr, label='area = {:.3f}'.format(auc_))\n",
    "    ax1.set_xlabel('False positive rate')\n",
    "    ax1.set_ylabel('True positive rate')\n",
    "    ax1.set_title(\"Train ROC AUC\")\n",
    "    ax1.legend(loc='best')\n",
    "\n",
    "    fpr, tpr, thresholds = roc_curve(y_test, clf.predict_proba(X_test)[:, 1])\n",
    "    auc_ = auc(fpr, tpr)\n",
    "\n",
    "    ax2.plot([0, 1], [0, 1], '--')\n",
    "    ax2.plot(fpr, tpr, label='area = {:.3f}'.format(auc_))\n",
    "    ax2.set_xlabel('False positive rate')\n",
    "    ax2.set_ylabel('True positive rate')\n",
    "    ax2.set_title(\"Test ROC AUC\")\n",
    "    \n",
    "    ax2.legend(loc='best')\n",
    "    plt.show()"
   ]
  },
  {
   "cell_type": "code",
   "execution_count": 5,
   "id": "631022ca",
   "metadata": {},
   "outputs": [],
   "source": [
    "def plot_importances(clf):\n",
    "    importances_impurity = clf.feature_importances_\n",
    "    impurity_importances = pd.Series(importances_impurity).nlargest(10) \n",
    "    # select the 10 X variables with largest feature importance values\n",
    "    fig, (ax1, ax2) = plt.subplots(1, 2, figsize=(10, 5))\n",
    "    impurity_importances.plot.bar(ax=ax1)\n",
    "    ax1.set_title(\"Feature importances using MDI (mean decrease in impurity)\")\n",
    "    ax1.set_ylabel(\"Mean decrease in impurity\")\n",
    "    \n",
    "    importances_permutation = permutation_importance(\n",
    "        clf, X_test, y_test, n_repeats=10, random_state=42, n_jobs=2\n",
    "    )\n",
    "    permutation_importances = pd.Series(importances_permutation.importances_mean).nlargest(10)\n",
    "\n",
    "    permutation_importances.plot.bar(ax=ax2)\n",
    "    ax2.set_title(\"Feature importances using permutation importances\")\n",
    "    ax2.set_ylabel(\"Mean decrease in accuracy\")\n",
    "    fig.tight_layout()"
   ]
  },
  {
   "cell_type": "code",
   "execution_count": 6,
   "id": "80ddad32",
   "metadata": {},
   "outputs": [],
   "source": [
    "def grid_search(clf, criterion, param_grid):\n",
    "    # Testing through a 5-fold CV and finding the combination that yields the highest criterion\n",
    "    grid = GridSearchCV(estimator=clf,\n",
    "                        param_grid=param_grid,\n",
    "                        scoring=criterion,\n",
    "                        verbose=2,\n",
    "                        cv=5,\n",
    "                        n_jobs=-1)\n",
    "\n",
    "    grid_result = grid.fit(X_train, y_train)\n",
    "    return grid_result"
   ]
  },
  {
   "cell_type": "code",
   "execution_count": 7,
   "id": "5df2a0c0",
   "metadata": {},
   "outputs": [],
   "source": [
    "def get_gridsearch_results(grid_search_result):\n",
    "    res = {}\n",
    "    \n",
    "    param_names = list(grid_search_result.cv_results_['params'][0].keys())\n",
    "    for param in param_names:\n",
    "        params = grid_search_result.cv_results_['param_' + param]\n",
    "        res[param] = params\n",
    "    \n",
    "    res['criterion'] = grid_search_result.cv_results_['mean_test_score']\n",
    "    return pd.DataFrame(res)"
   ]
  },
  {
   "cell_type": "code",
   "execution_count": 8,
   "id": "838c8b0d",
   "metadata": {},
   "outputs": [],
   "source": [
    "# compare final models\n",
    "def compare_models(clfs, clf_names):\n",
    "    compare_results = {}\n",
    "    for i in range(len(clfs)):\n",
    "        clf = clfs[i]\n",
    "        clf_results = {}\n",
    "        y_pred_train = clf.predict(X_train)\n",
    "        y_pred_test = clf.predict(X_test)\n",
    "        \n",
    "        clf_results['accuracy_train'] = accuracy_score(y_train, y_pred_train)\n",
    "        clf_results['recall_train'] = recall_score(y_train, y_pred_train)\n",
    "        clf_results['precision_train'] = precision_score(y_train, y_pred_train)\n",
    "        clf_results['roc_auc_train'] = roc_auc_score(y_train, y_pred_train)\n",
    "        clf_results['accuracy_test'] = accuracy_score(y_test, y_pred_test)\n",
    "        clf_results['recall_test'] = recall_score(y_test, y_pred_test)\n",
    "        clf_results['precision_test'] = precision_score(y_test, y_pred_test)\n",
    "        clf_results['roc_auc_test'] = roc_auc_score(y_test, y_pred_test)\n",
    "    \n",
    "        compare_results[clf_names[i]] = clf_results\n",
    "    \n",
    "    return pd.DataFrame(compare_results)"
   ]
  },
  {
   "cell_type": "markdown",
   "id": "3c2358e3",
   "metadata": {},
   "source": [
    "## Decision Tree Model"
   ]
  },
  {
   "cell_type": "code",
   "execution_count": null,
   "id": "e86c0e70",
   "metadata": {},
   "outputs": [
    {
     "name": "stdout",
     "output_type": "stream",
     "text": [
      "Fitting 5 folds for each of 18 candidates, totalling 90 fits\n"
     ]
    }
   ],
   "source": [
    "# Specify scoring criterion\n",
    "criterion = make_scorer(roc_auc_score, needs_proba=True)\n",
    "\n",
    "clf_tree = DecisionTreeClassifier()\n",
    "\n",
    "param_grid = dict(criterion=['gini', 'entropy'],\n",
    "                  max_depth=[2, 5, 10],\n",
    "                  ccp_alpha=[0, 0.00001, 0.0001])\n",
    "\n",
    "grid_result_tree = grid_search(clf_tree, criterion, param_grid)\n",
    "get_gridsearch_results(grid_result_tree)"
   ]
  },
  {
   "cell_type": "code",
   "execution_count": null,
   "id": "33fc59ed",
   "metadata": {},
   "outputs": [],
   "source": [
    "# Choose best parameters from hyperparameter tuning\n",
    "clf_tree = DecisionTreeClassifier(**grid_result_tree.best_params_).fit(X_train, y_train)\n",
    "\n",
    "# save best decision tree model\n",
    "pickle.dump(clf_tree, open('models/model_tree.sav', 'wb'))"
   ]
  },
  {
   "cell_type": "code",
   "execution_count": 12,
   "id": "b1134e59",
   "metadata": {},
   "outputs": [],
   "source": [
    "# read best decision tree model\n",
    "loaded_model = pickle.load(open('models/model_tree.sav', 'rb'))"
   ]
  },
  {
   "cell_type": "code",
   "execution_count": 13,
   "id": "27f468ec",
   "metadata": {},
   "outputs": [
    {
     "data": {
      "text/html": [
       "<div>\n",
       "<style scoped>\n",
       "    .dataframe tbody tr th:only-of-type {\n",
       "        vertical-align: middle;\n",
       "    }\n",
       "\n",
       "    .dataframe tbody tr th {\n",
       "        vertical-align: top;\n",
       "    }\n",
       "\n",
       "    .dataframe thead th {\n",
       "        text-align: right;\n",
       "    }\n",
       "</style>\n",
       "<table border=\"1\" class=\"dataframe\">\n",
       "  <thead>\n",
       "    <tr style=\"text-align: right;\">\n",
       "      <th></th>\n",
       "      <th>test</th>\n",
       "    </tr>\n",
       "  </thead>\n",
       "  <tbody>\n",
       "    <tr>\n",
       "      <th>accuracy_test</th>\n",
       "      <td>0.999990</td>\n",
       "    </tr>\n",
       "    <tr>\n",
       "      <th>accuracy_train</th>\n",
       "      <td>0.999994</td>\n",
       "    </tr>\n",
       "    <tr>\n",
       "      <th>precision_test</th>\n",
       "      <td>0.996683</td>\n",
       "    </tr>\n",
       "    <tr>\n",
       "      <th>precision_train</th>\n",
       "      <td>0.999585</td>\n",
       "    </tr>\n",
       "    <tr>\n",
       "      <th>recall_test</th>\n",
       "      <td>0.991749</td>\n",
       "    </tr>\n",
       "    <tr>\n",
       "      <th>recall_train</th>\n",
       "      <td>0.993394</td>\n",
       "    </tr>\n",
       "    <tr>\n",
       "      <th>roc_auc_test</th>\n",
       "      <td>0.995873</td>\n",
       "    </tr>\n",
       "    <tr>\n",
       "      <th>roc_auc_train</th>\n",
       "      <td>0.996697</td>\n",
       "    </tr>\n",
       "  </tbody>\n",
       "</table>\n",
       "</div>"
      ],
      "text/plain": [
       "                     test\n",
       "accuracy_test    0.999990\n",
       "accuracy_train   0.999994\n",
       "precision_test   0.996683\n",
       "precision_train  0.999585\n",
       "recall_test      0.991749\n",
       "recall_train     0.993394\n",
       "roc_auc_test     0.995873\n",
       "roc_auc_train    0.996697"
      ]
     },
     "execution_count": 13,
     "metadata": {},
     "output_type": "execute_result"
    }
   ],
   "source": [
    "compare_models([loaded_model], ['test'])"
   ]
  },
  {
   "cell_type": "markdown",
   "id": "44d4893c",
   "metadata": {},
   "source": [
    "## Random Forest Model"
   ]
  },
  {
   "cell_type": "code",
   "execution_count": null,
   "id": "8d925c1d",
   "metadata": {},
   "outputs": [],
   "source": [
    "# Specify scoring criterion\n",
    "criterion = make_scorer(roc_auc_score, needs_proba=True)\n",
    "\n",
    "clf_rf = RandomForestClassifier()\n",
    "\n",
    "param_grid = dict(criterion=['gini', 'entropy'],\n",
    "                  max_depth=[2, 5, 10],\n",
    "                  ccp_alpha=[0, 0.00001, 0.0001])\n",
    "\n",
    "grid_result_rf = grid_search(clf_rf, criterion, param_grid)\n",
    "get_gridsearch_results(grid_result_rf)"
   ]
  },
  {
   "cell_type": "code",
   "execution_count": null,
   "id": "53b0877a",
   "metadata": {},
   "outputs": [],
   "source": [
    "# Choose best parameters from hyperparameter tuning\n",
    "clf_rf = RandomForestClassifier(**grid_result_rf.best_params_).fit(X_train, y_train)\n",
    "\n",
    "# save best decision tree model\n",
    "pickle.dump(clf_rf, open('models/model_rf.sav', 'wb'))"
   ]
  },
  {
   "cell_type": "code",
   "execution_count": 16,
   "id": "c2679ba8",
   "metadata": {},
   "outputs": [],
   "source": [
    "# read best decision rf model\n",
    "clf_rf = pickle.load(open('models/model_rf.sav', 'rb'))"
   ]
  },
  {
   "cell_type": "markdown",
   "id": "7b6610b7",
   "metadata": {},
   "source": [
    "## Compare Models"
   ]
  },
  {
   "cell_type": "code",
   "execution_count": 17,
   "id": "f8ceb14b",
   "metadata": {},
   "outputs": [],
   "source": [
    "clfs = [clf_tree, clf_rf]\n",
    "clf_names = ['decision_tree', 'random_forest']"
   ]
  },
  {
   "cell_type": "code",
   "execution_count": 18,
   "id": "b6baf5d2",
   "metadata": {},
   "outputs": [
    {
     "name": "stderr",
     "output_type": "stream",
     "text": [
      "/opt/homebrew/Caskroom/miniforge/base/envs/workspace/lib/python3.10/site-packages/sklearn/metrics/_classification.py:1334: UndefinedMetricWarning: Precision is ill-defined and being set to 0.0 due to no predicted samples. Use `zero_division` parameter to control this behavior.\n",
      "  _warn_prf(average, modifier, msg_start, len(result))\n",
      "/opt/homebrew/Caskroom/miniforge/base/envs/workspace/lib/python3.10/site-packages/sklearn/metrics/_classification.py:1334: UndefinedMetricWarning: Precision is ill-defined and being set to 0.0 due to no predicted samples. Use `zero_division` parameter to control this behavior.\n",
      "  _warn_prf(average, modifier, msg_start, len(result))\n"
     ]
    },
    {
     "data": {
      "text/html": [
       "<div>\n",
       "<style scoped>\n",
       "    .dataframe tbody tr th:only-of-type {\n",
       "        vertical-align: middle;\n",
       "    }\n",
       "\n",
       "    .dataframe tbody tr th {\n",
       "        vertical-align: top;\n",
       "    }\n",
       "\n",
       "    .dataframe thead th {\n",
       "        text-align: right;\n",
       "    }\n",
       "</style>\n",
       "<table border=\"1\" class=\"dataframe\">\n",
       "  <thead>\n",
       "    <tr style=\"text-align: right;\">\n",
       "      <th></th>\n",
       "      <th>decision_tree</th>\n",
       "      <th>random_forest</th>\n",
       "    </tr>\n",
       "  </thead>\n",
       "  <tbody>\n",
       "    <tr>\n",
       "      <th>accuracy_train</th>\n",
       "      <td>0.999994</td>\n",
       "      <td>0.999163</td>\n",
       "    </tr>\n",
       "    <tr>\n",
       "      <th>recall_train</th>\n",
       "      <td>0.993394</td>\n",
       "      <td>0.000000</td>\n",
       "    </tr>\n",
       "    <tr>\n",
       "      <th>precision_train</th>\n",
       "      <td>0.999585</td>\n",
       "      <td>0.000000</td>\n",
       "    </tr>\n",
       "    <tr>\n",
       "      <th>roc_auc_train</th>\n",
       "      <td>0.996697</td>\n",
       "      <td>0.500000</td>\n",
       "    </tr>\n",
       "    <tr>\n",
       "      <th>accuracy_test</th>\n",
       "      <td>0.999990</td>\n",
       "      <td>0.999162</td>\n",
       "    </tr>\n",
       "    <tr>\n",
       "      <th>recall_test</th>\n",
       "      <td>0.991749</td>\n",
       "      <td>0.000000</td>\n",
       "    </tr>\n",
       "    <tr>\n",
       "      <th>precision_test</th>\n",
       "      <td>0.996683</td>\n",
       "      <td>0.000000</td>\n",
       "    </tr>\n",
       "    <tr>\n",
       "      <th>roc_auc_test</th>\n",
       "      <td>0.995873</td>\n",
       "      <td>0.500000</td>\n",
       "    </tr>\n",
       "  </tbody>\n",
       "</table>\n",
       "</div>"
      ],
      "text/plain": [
       "                 decision_tree  random_forest\n",
       "accuracy_train        0.999994       0.999163\n",
       "recall_train          0.993394       0.000000\n",
       "precision_train       0.999585       0.000000\n",
       "roc_auc_train         0.996697       0.500000\n",
       "accuracy_test         0.999990       0.999162\n",
       "recall_test           0.991749       0.000000\n",
       "precision_test        0.996683       0.000000\n",
       "roc_auc_test          0.995873       0.500000"
      ]
     },
     "execution_count": 18,
     "metadata": {},
     "output_type": "execute_result"
    }
   ],
   "source": [
    "compare_models(clfs, clf_names)"
   ]
  },
  {
   "cell_type": "code",
   "execution_count": null,
   "id": "f79c33a0",
   "metadata": {},
   "outputs": [],
   "source": [
    "# Get plots\n",
    "for i in range(len(clfs)):\n",
    "    clf = clfs[i]\n",
    "    print(f\"Getting results for {clf_names[i]} model\")\n",
    "    plot_roc_auc(clf)\n",
    "    plot_importances(clf)"
   ]
  },
  {
   "cell_type": "code",
   "execution_count": null,
   "id": "559f6378",
   "metadata": {},
   "outputs": [],
   "source": []
  }
 ],
 "metadata": {
  "kernelspec": {
   "display_name": "Python 3 (ipykernel)",
   "language": "python",
   "name": "python3"
  },
  "language_info": {
   "codemirror_mode": {
    "name": "ipython",
    "version": 3
   },
   "file_extension": ".py",
   "mimetype": "text/x-python",
   "name": "python",
   "nbconvert_exporter": "python",
   "pygments_lexer": "ipython3",
   "version": "3.10.6"
  }
 },
 "nbformat": 4,
 "nbformat_minor": 5
}
