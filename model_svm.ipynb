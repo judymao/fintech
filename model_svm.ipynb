{
 "cells": [
  {
   "cell_type": "markdown",
   "id": "05690754",
   "metadata": {},
   "source": [
    "# Model: Support Vector Machine"
   ]
  },
  {
   "cell_type": "code",
   "execution_count": 1,
   "id": "dcdcf4c9",
   "metadata": {},
   "outputs": [],
   "source": [
    "# Import relevant packages\n",
    "import matplotlib.pyplot as plt\n",
    "%matplotlib inline\n",
    "\n",
    "import numpy as np\n",
    "import pandas as pd\n",
    "import seaborn as sns\n",
    "\n",
    "from sklearn.preprocessing import StandardScaler\n",
    "from sklearn.model_selection import cross_val_score, train_test_split, GridSearchCV, StratifiedKFold\n",
    "from sklearn.metrics import make_scorer, accuracy_score, recall_score, roc_auc_score, precision_score\n",
    "from sklearn.metrics import plot_confusion_matrix, auc, roc_curve, plot_roc_curve, plot_precision_recall_curve\n",
    "\n",
    "from sklearn.svm import SVC\n",
    "\n",
    "from utils import process_data"
   ]
  },
  {
   "cell_type": "code",
   "execution_count": 2,
   "id": "01d52024",
   "metadata": {},
   "outputs": [
    {
     "name": "stdout",
     "output_type": "stream",
     "text": [
      "Beginning data processing ...\n",
      "Reading in batched data ...\n"
     ]
    },
    {
     "name": "stderr",
     "output_type": "stream",
     "text": [
      "100%|██████████████████████████████████████████████████████████████████████████████████| 19/19 [01:16<00:00,  4.01s/it]\n"
     ]
    },
    {
     "name": "stdout",
     "output_type": "stream",
     "text": [
      "Splitting data into train and test ...\n",
      "Scaling data ...\n",
      "Completed normal data processing.\n"
     ]
    }
   ],
   "source": [
    "data = process_data(type_ = 'normal')"
   ]
  },
  {
   "cell_type": "code",
   "execution_count": 3,
   "id": "23828c3b",
   "metadata": {},
   "outputs": [],
   "source": [
    "X_train = data['X_train_scaled']\n",
    "y_train = data['y_train']\n",
    "\n",
    "X_test = data['X_test_scaled']\n",
    "y_test = data['y_test']"
   ]
  },
  {
   "cell_type": "markdown",
   "id": "e2a11b57",
   "metadata": {},
   "source": [
    "## Useful Functions"
   ]
  },
  {
   "cell_type": "code",
   "execution_count": 4,
   "id": "fc0465e8",
   "metadata": {},
   "outputs": [],
   "source": [
    "def plot_roc(clf, X, y, title):\n",
    "    fpr, tpr, thresholds = roc_curve(y, clf.predict_proba(X)[:, 1])\n",
    "    auc_ = auc(fpr, tpr)\n",
    "\n",
    "    plt.figure(1)\n",
    "    plt.plot([0, 1], [0, 1], '--')\n",
    "    plt.plot(fpr, tpr, label='area = {:.3f}'.format(auc_))\n",
    "    plt.xlabel('False positive rate')\n",
    "    plt.ylabel('True positive rate')\n",
    "    plt.title(title)\n",
    "    plt.legend(loc='best')\n",
    "    plt.show()"
   ]
  },
  {
   "cell_type": "code",
   "execution_count": 5,
   "id": "631022ca",
   "metadata": {},
   "outputs": [],
   "source": [
    "def plot_impurities(clf):\n",
    "    importances_impurity = clf.feature_importances_\n",
    "    impurity_importances = pd.Series(importances_impurity).nlargest(10) \n",
    "    # select the 10 X variables with largest feature importance values\n",
    "    fig, ax = plt.subplots()\n",
    "    impurity_importances.plot.bar(ax=ax)\n",
    "    ax.set_title(\"Feature importances using MDI (mean decrease in impurity)\")\n",
    "    ax.set_ylabel(\"Mean decrease in impurity\")\n",
    "    fig.tight_layout()"
   ]
  },
  {
   "cell_type": "code",
   "execution_count": 6,
   "id": "620d507e",
   "metadata": {},
   "outputs": [],
   "source": [
    "def plot_permutations(clf):\n",
    "    importances_permutation = permutation_importance(\n",
    "        clf, X_test, y_test, n_repeats=10, random_state=42, n_jobs=2\n",
    "    )\n",
    "    permutation_importances = pd.Series(importances_permutation.importances_mean).nlargest(10)\n",
    "\n",
    "    fig, ax = plt.subplots()\n",
    "    permutation_importances.plot.bar(ax=ax)\n",
    "    ax.set_title(\"Feature importances using permutation importances\")\n",
    "    ax.set_ylabel(\"Mean decrease in accuracy\")\n",
    "    fig.tight_layout()"
   ]
  },
  {
   "cell_type": "markdown",
   "id": "3c2358e3",
   "metadata": {},
   "source": [
    "## SVM Model"
   ]
  },
  {
   "cell_type": "code",
   "execution_count": 7,
   "id": "e86c0e70",
   "metadata": {},
   "outputs": [],
   "source": [
    "# Support Vector Machines\n",
    "def svm_model(x_train, y_train, x_test, y_test, standardize = True, scoring = 'balanced_accuracy', test = True, folds = 5):\n",
    "    if test:\n",
    "        hyperparameters = [\n",
    "            {'kernel': ['linear']},\n",
    "            #{'kernel': ['poly'], 'degree': [2]},\n",
    "            #{'kernel': ['rbf'], 'gamma': [0.01]}\n",
    "        ]    \n",
    "    else:\n",
    "        #C = [0.001, 0.01, 0.1, 1, 10, 100]\n",
    "        C = [0.1, 1, 10]\n",
    "\n",
    "        hyperparameters = [\n",
    "            {'kernel': ['linear'], 'C': C},\n",
    "            {'kernel': ['poly'], 'degree': [2, 3, 4], 'C': C},\n",
    "            {'kernel': ['rbf'], 'gamma': [0.0001, 0.001, 0.01, 0.1, 1], 'C': C}\n",
    "        ]\n",
    "    \n",
    "    if standardize:\n",
    "        x_train, x_test, _ = standardize_data(x_train, x_test)\n",
    "\n",
    "    svm_model = SVC(probability = True)\n",
    "    stratKFold = StratifiedKFold(n_splits = folds)\n",
    "    \n",
    "    grid = GridSearchCV(svm_model, hyperparameters, cv = stratKFold, scoring = scoring, verbose = 10, n_jobs = -1)\n",
    "    model = grid.fit(x_train, y_train)\n",
    "    \n",
    "    train_acc = accuracy_score(y_train, model.predict(x_train))\n",
    "    test_acc = accuracy_score(y_test, model.predict(x_test))\n",
    "\n",
    "    train_acc_bal = balanced_accuracy_score(y_train, model.predict(x_train))\n",
    "    test_acc_bal = balanced_accuracy_score(y_test, model.predict(x_test))    \n",
    "    \n",
    "    y_predictions = model.predict(x_train)\n",
    "    y_predictions_prob = model.predict_proba(x_train)[:, 1]    \n",
    "    train_pred_out = prediction_outputs(y_train, y_predictions, y_predictions_prob)\n",
    "\n",
    "    y_predictions = model.predict(x_test)\n",
    "    y_predictions_prob = model.predict_proba(x_test)[:, 1]    \n",
    "    test_pred_out = prediction_outputs(y_test, y_predictions, y_predictions_prob)\n",
    "    \n",
    "    outputs = {\n",
    "        'best_params': model.best_params_,\n",
    "        'model': model,\n",
    "        'train_acc': train_acc,\n",
    "        'test_acc': test_acc,\n",
    "        'train_acc_bal': train_acc_bal,\n",
    "        'test_acc_bal': test_acc_bal,        \n",
    "        'train_conf_mat': train_pred_out['conf_mat'],\n",
    "        'test_conf_mat': test_pred_out['conf_mat'],\n",
    "        'train_basic_roc': (train_pred_out['basic_falpos'], train_pred_out['basic_trupos']),\n",
    "        'train_log_roc': (train_pred_out['pred_falpos'], train_pred_out['pred_trupos'], train_pred_out['pred_thresholds']),\n",
    "        'train_precision': (train_pred_out['precision'], train_pred_out['recall'], train_pred_out['pr_thresholds']),\n",
    "        'test_basic_roc': (test_pred_out['basic_falpos'], test_pred_out['basic_trupos']),\n",
    "        'test_log_roc': (test_pred_out['pred_falpos'], test_pred_out['pred_trupos'], test_pred_out['pred_thresholds']),\n",
    "        'test_precision': (test_pred_out['precision'], test_pred_out['recall'], test_pred_out['pr_thresholds']),\n",
    "    }\n",
    "    \n",
    "    return outputs"
   ]
  },
  {
   "cell_type": "code",
   "execution_count": 8,
   "id": "7b97fab7",
   "metadata": {},
   "outputs": [],
   "source": [
    "test_mode = False\n",
    "cv_folds = 5\n",
    "scoring_metric = 'roc_auc'"
   ]
  },
  {
   "cell_type": "code",
   "execution_count": null,
   "id": "f6462b25",
   "metadata": {},
   "outputs": [
    {
     "name": "stdout",
     "output_type": "stream",
     "text": [
      "Fitting 5 folds for each of 27 candidates, totalling 135 fits\n"
     ]
    }
   ],
   "source": [
    "svm_output = svm_model(X_train[:10000], y_train[:10000], X_test[:10000], y_test[:10000], standardize = False, scoring = scoring_metric,\n",
    "                       test = test_mode, folds = cv_folds)"
   ]
  },
  {
   "cell_type": "code",
   "execution_count": null,
   "id": "16b8a50a",
   "metadata": {},
   "outputs": [],
   "source": []
  },
  {
   "cell_type": "markdown",
   "id": "0afbebdf",
   "metadata": {},
   "source": [
    "## CHANGE TEST MODE TO FALSE ONCE THIS RUNS SUCCESSFULLY"
   ]
  },
  {
   "cell_type": "code",
   "execution_count": null,
   "id": "39d928ec",
   "metadata": {},
   "outputs": [],
   "source": []
  },
  {
   "cell_type": "code",
   "execution_count": null,
   "id": "5ef8b84a",
   "metadata": {},
   "outputs": [],
   "source": []
  },
  {
   "cell_type": "code",
   "execution_count": null,
   "id": "124b412b",
   "metadata": {},
   "outputs": [],
   "source": []
  },
  {
   "cell_type": "code",
   "execution_count": null,
   "id": "902331fa",
   "metadata": {},
   "outputs": [],
   "source": []
  }
 ],
 "metadata": {
  "kernelspec": {
   "display_name": "Python 3 (ipykernel)",
   "language": "python",
   "name": "python3"
  },
  "language_info": {
   "codemirror_mode": {
    "name": "ipython",
    "version": 3
   },
   "file_extension": ".py",
   "mimetype": "text/x-python",
   "name": "python",
   "nbconvert_exporter": "python",
   "pygments_lexer": "ipython3",
   "version": "3.9.6"
  }
 },
 "nbformat": 4,
 "nbformat_minor": 5
}
