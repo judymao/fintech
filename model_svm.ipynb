{
 "cells": [
  {
   "cell_type": "markdown",
   "id": "05690754",
   "metadata": {},
   "source": [
    "# Model: Support Vector Machine"
   ]
  },
  {
   "cell_type": "code",
   "execution_count": 1,
   "id": "dcdcf4c9",
   "metadata": {},
   "outputs": [],
   "source": [
    "# Import relevant packages\n",
    "import matplotlib.pyplot as plt\n",
    "%matplotlib inline\n",
    "\n",
    "import numpy as np\n",
    "import pandas as pd\n",
    "import seaborn as sns\n",
    "import pickle\n",
    "\n",
    "\n",
    "from sklearn.preprocessing import StandardScaler\n",
    "from sklearn.model_selection import cross_val_score, train_test_split, GridSearchCV, StratifiedKFold\n",
    "from sklearn.metrics import make_scorer, accuracy_score, recall_score, roc_auc_score, precision_score, balanced_accuracy_score\n",
    "from sklearn.metrics import plot_confusion_matrix, auc, roc_curve, plot_roc_curve, plot_precision_recall_curve, precision_recall_curve, confusion_matrix\n",
    "\n",
    "from sklearn.svm import SVC\n",
    "\n",
    "from utils import process_data, split_train, grid_search"
   ]
  },
  {
   "cell_type": "code",
   "execution_count": 2,
   "id": "01d52024",
   "metadata": {},
   "outputs": [
    {
     "name": "stdout",
     "output_type": "stream",
     "text": [
      "Beginning data processing ...\n",
      "Reading in batched data ...\n"
     ]
    },
    {
     "name": "stderr",
     "output_type": "stream",
     "text": [
      "100%|██████████████████████████████████████████████████████████████████████████████████| 19/19 [00:21<00:00,  1.13s/it]\n"
     ]
    },
    {
     "name": "stdout",
     "output_type": "stream",
     "text": [
      "Splitting data into train and test ...\n",
      "Scaling data ...\n",
      "Completed normal data processing.\n"
     ]
    }
   ],
   "source": [
    "data = process_data(type_ = 'normal')"
   ]
  },
  {
   "cell_type": "code",
   "execution_count": 3,
   "id": "23828c3b",
   "metadata": {},
   "outputs": [],
   "source": [
    "X_train = data['X_train_scaled']\n",
    "y_train = data['y_train']\n",
    "\n",
    "X_test = data['X_test_scaled']\n",
    "y_test = data['y_test']"
   ]
  },
  {
   "cell_type": "markdown",
   "id": "3c2358e3",
   "metadata": {},
   "source": [
    "## SVM Model"
   ]
  },
  {
   "cell_type": "code",
   "execution_count": 4,
   "id": "7c2855cc",
   "metadata": {},
   "outputs": [],
   "source": [
    "# def prediction_outputs(y, y_predictions, y_predictions_prob):\n",
    "#     # Confusion Matrix\n",
    "#     conf_mat = confusion_matrix(y, y_predictions)\n",
    "    \n",
    "#     # ROC Curve\n",
    "#     basic_falpos, basic_trupos, _ = roc_curve(y, [0 for _ in range(len(y))])\n",
    "#     pred_falpos, pred_trupos, pred_thresholds = roc_curve(y, y_predictions_prob)\n",
    "    \n",
    "#     # Precision Recall\n",
    "#     precision, recall, pr_thresholds = precision_recall_curve(y, y_predictions_prob)\n",
    "    \n",
    "#     outputs = {\n",
    "#         'conf_mat': conf_mat,\n",
    "#         'basic_falpos': basic_falpos,\n",
    "#         'basic_trupos': basic_trupos,\n",
    "#         'pred_falpos': pred_falpos,\n",
    "#         'pred_trupos': pred_trupos,\n",
    "#         'pred_thresholds': pred_thresholds,\n",
    "#         'precision': precision,\n",
    "#         'recall': recall,\n",
    "#         'pr_thresholds': pr_thresholds\n",
    "#     }\n",
    "    \n",
    "#     return outputs"
   ]
  },
  {
   "cell_type": "code",
   "execution_count": 5,
   "id": "e86c0e70",
   "metadata": {},
   "outputs": [],
   "source": [
    "# # Support Vector Machines\n",
    "# def svm_model(x_train, y_train, x_test, y_test, standardize = True, scoring = 'balanced_accuracy', test = True, folds = 5):\n",
    "#     if test:\n",
    "#         hyperparameters = [\n",
    "#             {'kernel': ['linear']},\n",
    "#             #{'kernel': ['poly'], 'degree': [2]},\n",
    "#             #{'kernel': ['rbf'], 'gamma': [0.01]}\n",
    "#         ]    \n",
    "#     else:\n",
    "#         #C = [0.001, 0.01, 0.1, 1, 10, 100]\n",
    "#         C = [0.1, 1, 10]\n",
    "\n",
    "#         hyperparameters = [\n",
    "#             {'kernel': ['linear'], 'C': C},\n",
    "#             {'kernel': ['poly'], 'degree': [2, 3, 4], 'C': C},\n",
    "#             {'kernel': ['rbf'], 'gamma': [0.001, 0.01, 0.1], 'C': C}\n",
    "#         ]\n",
    "    \n",
    "#     if standardize:\n",
    "#         x_train, x_test, _ = standardize_data(x_train, x_test)\n",
    "\n",
    "#     svm_model = SVC(probability = True)\n",
    "#     stratKFold = StratifiedKFold(n_splits = folds)\n",
    "    \n",
    "#     grid = GridSearchCV(svm_model, hyperparameters, cv = stratKFold, scoring = scoring, verbose = 10, n_jobs = -1)\n",
    "#     model = grid.fit(x_train, y_train)\n",
    "    \n",
    "#     train_acc = accuracy_score(y_train, model.predict(x_train))\n",
    "#     test_acc = accuracy_score(y_test, model.predict(x_test))\n",
    "\n",
    "#     train_acc_bal = balanced_accuracy_score(y_train, model.predict(x_train))\n",
    "#     test_acc_bal = balanced_accuracy_score(y_test, model.predict(x_test))    \n",
    "    \n",
    "#     y_predictions = model.predict(x_train)\n",
    "#     y_predictions_prob = model.predict_proba(x_train)[:, 1]    \n",
    "#     train_pred_out = prediction_outputs(y_train, y_predictions, y_predictions_prob)\n",
    "\n",
    "#     y_predictions = model.predict(x_test)\n",
    "#     y_predictions_prob = model.predict_proba(x_test)[:, 1]    \n",
    "#     test_pred_out = prediction_outputs(y_test, y_predictions, y_predictions_prob)\n",
    "    \n",
    "#     outputs = {\n",
    "#         'best_params': model.best_params_,\n",
    "#         'model': model,\n",
    "#         'train_acc': train_acc,\n",
    "#         'test_acc': test_acc,\n",
    "#         'train_acc_bal': train_acc_bal,\n",
    "#         'test_acc_bal': test_acc_bal,        \n",
    "#         'train_conf_mat': train_pred_out['conf_mat'],\n",
    "#         'test_conf_mat': test_pred_out['conf_mat'],\n",
    "#         'train_basic_roc': (train_pred_out['basic_falpos'], train_pred_out['basic_trupos']),\n",
    "#         'train_log_roc': (train_pred_out['pred_falpos'], train_pred_out['pred_trupos'], train_pred_out['pred_thresholds']),\n",
    "#         'train_precision': (train_pred_out['precision'], train_pred_out['recall'], train_pred_out['pr_thresholds']),\n",
    "#         'test_basic_roc': (test_pred_out['basic_falpos'], test_pred_out['basic_trupos']),\n",
    "#         'test_log_roc': (test_pred_out['pred_falpos'], test_pred_out['pred_trupos'], test_pred_out['pred_thresholds']),\n",
    "#         'test_precision': (test_pred_out['precision'], test_pred_out['recall'], test_pred_out['pr_thresholds']),\n",
    "#     }\n",
    "    \n",
    "#     return outputs"
   ]
  },
  {
   "cell_type": "code",
   "execution_count": 6,
   "id": "7b97fab7",
   "metadata": {},
   "outputs": [],
   "source": [
    "# test_mode = False\n",
    "# cv_folds = 5\n",
    "# scoring_metric = 'roc_auc'"
   ]
  },
  {
   "cell_type": "code",
   "execution_count": 7,
   "id": "b03e82f0",
   "metadata": {},
   "outputs": [
    {
     "name": "stdout",
     "output_type": "stream",
     "text": [
      "Splitting train ...\n"
     ]
    }
   ],
   "source": [
    "X_input, y_input = split_train(X_train, y_train, keep_percent=0.1)"
   ]
  },
  {
   "cell_type": "code",
   "execution_count": null,
   "id": "bd0ce4c8",
   "metadata": {
    "scrolled": false
   },
   "outputs": [
    {
     "name": "stdout",
     "output_type": "stream",
     "text": [
      "Fitting 5 folds for each of 21 candidates, totalling 105 fits\n",
      "[CV 1/5; 1/21] START C=0.1, kernel=linear.......................................\n",
      "[CV 1/5; 1/21] END ........C=0.1, kernel=linear;, score=0.993 total time= 1.1min\n",
      "[CV 2/5; 1/21] START C=0.1, kernel=linear.......................................\n",
      "[CV 2/5; 1/21] END ........C=0.1, kernel=linear;, score=0.981 total time= 1.1min\n",
      "[CV 3/5; 1/21] START C=0.1, kernel=linear.......................................\n",
      "[CV 3/5; 1/21] END ........C=0.1, kernel=linear;, score=0.987 total time= 1.1min\n",
      "[CV 4/5; 1/21] START C=0.1, kernel=linear.......................................\n",
      "[CV 4/5; 1/21] END ........C=0.1, kernel=linear;, score=0.991 total time= 1.1min\n",
      "[CV 5/5; 1/21] START C=0.1, kernel=linear.......................................\n",
      "[CV 5/5; 1/21] END ........C=0.1, kernel=linear;, score=0.973 total time=  58.3s\n",
      "[CV 1/5; 2/21] START C=1, kernel=linear.........................................\n",
      "[CV 1/5; 2/21] END ..........C=1, kernel=linear;, score=0.996 total time= 1.8min\n",
      "[CV 2/5; 2/21] START C=1, kernel=linear.........................................\n",
      "[CV 2/5; 2/21] END ..........C=1, kernel=linear;, score=0.989 total time= 1.7min\n",
      "[CV 3/5; 2/21] START C=1, kernel=linear.........................................\n",
      "[CV 3/5; 2/21] END ..........C=1, kernel=linear;, score=0.992 total time= 1.8min\n",
      "[CV 4/5; 2/21] START C=1, kernel=linear.........................................\n",
      "[CV 4/5; 2/21] END ..........C=1, kernel=linear;, score=0.996 total time= 1.8min\n",
      "[CV 5/5; 2/21] START C=1, kernel=linear.........................................\n",
      "[CV 5/5; 2/21] END ..........C=1, kernel=linear;, score=0.990 total time= 1.6min\n",
      "[CV 1/5; 3/21] START C=10, kernel=linear........................................\n",
      "[CV 1/5; 3/21] END .........C=10, kernel=linear;, score=0.998 total time= 3.5min\n",
      "[CV 2/5; 3/21] START C=10, kernel=linear........................................\n",
      "[CV 2/5; 3/21] END .........C=10, kernel=linear;, score=0.995 total time= 3.6min\n",
      "[CV 3/5; 3/21] START C=10, kernel=linear........................................\n",
      "[CV 3/5; 3/21] END .........C=10, kernel=linear;, score=0.996 total time= 3.5min\n",
      "[CV 4/5; 3/21] START C=10, kernel=linear........................................\n",
      "[CV 4/5; 3/21] END .........C=10, kernel=linear;, score=0.998 total time= 3.5min\n",
      "[CV 5/5; 3/21] START C=10, kernel=linear........................................\n",
      "[CV 5/5; 3/21] END .........C=10, kernel=linear;, score=0.992 total time= 3.6min\n",
      "[CV 1/5; 4/21] START C=0.1, degree=2, kernel=poly...............................\n",
      "[CV 1/5; 4/21] END C=0.1, degree=2, kernel=poly;, score=0.962 total time= 1.1min\n",
      "[CV 2/5; 4/21] START C=0.1, degree=2, kernel=poly...............................\n",
      "[CV 2/5; 4/21] END C=0.1, degree=2, kernel=poly;, score=0.926 total time= 1.1min\n",
      "[CV 3/5; 4/21] START C=0.1, degree=2, kernel=poly...............................\n",
      "[CV 3/5; 4/21] END C=0.1, degree=2, kernel=poly;, score=0.951 total time= 1.1min\n",
      "[CV 4/5; 4/21] START C=0.1, degree=2, kernel=poly...............................\n",
      "[CV 4/5; 4/21] END C=0.1, degree=2, kernel=poly;, score=0.976 total time= 1.0min\n",
      "[CV 5/5; 4/21] START C=0.1, degree=2, kernel=poly...............................\n",
      "[CV 5/5; 4/21] END C=0.1, degree=2, kernel=poly;, score=0.901 total time=  57.9s\n",
      "[CV 1/5; 5/21] START C=0.1, degree=3, kernel=poly...............................\n",
      "[CV 1/5; 5/21] END C=0.1, degree=3, kernel=poly;, score=0.975 total time= 1.1min\n",
      "[CV 2/5; 5/21] START C=0.1, degree=3, kernel=poly...............................\n",
      "[CV 2/5; 5/21] END C=0.1, degree=3, kernel=poly;, score=0.925 total time= 1.0min\n",
      "[CV 3/5; 5/21] START C=0.1, degree=3, kernel=poly...............................\n",
      "[CV 3/5; 5/21] END C=0.1, degree=3, kernel=poly;, score=0.947 total time= 1.1min\n",
      "[CV 4/5; 5/21] START C=0.1, degree=3, kernel=poly...............................\n",
      "[CV 4/5; 5/21] END C=0.1, degree=3, kernel=poly;, score=0.974 total time= 8.5min\n",
      "[CV 5/5; 5/21] START C=0.1, degree=3, kernel=poly...............................\n",
      "[CV 5/5; 5/21] END C=0.1, degree=3, kernel=poly;, score=0.806 total time= 1.1min\n",
      "[CV 1/5; 6/21] START C=0.1, degree=4, kernel=poly...............................\n",
      "[CV 1/5; 6/21] END C=0.1, degree=4, kernel=poly;, score=0.974 total time= 1.5min\n",
      "[CV 2/5; 6/21] START C=0.1, degree=4, kernel=poly...............................\n",
      "[CV 2/5; 6/21] END C=0.1, degree=4, kernel=poly;, score=0.845 total time= 1.4min\n",
      "[CV 3/5; 6/21] START C=0.1, degree=4, kernel=poly...............................\n",
      "[CV 3/5; 6/21] END C=0.1, degree=4, kernel=poly;, score=0.894 total time= 1.3min\n",
      "[CV 4/5; 6/21] START C=0.1, degree=4, kernel=poly...............................\n",
      "[CV 4/5; 6/21] END C=0.1, degree=4, kernel=poly;, score=0.969 total time= 4.2min\n",
      "[CV 5/5; 6/21] START C=0.1, degree=4, kernel=poly...............................\n",
      "[CV 5/5; 6/21] END C=0.1, degree=4, kernel=poly;, score=0.764 total time= 1.3min\n",
      "[CV 1/5; 7/21] START C=1, degree=2, kernel=poly.................................\n",
      "[CV 1/5; 7/21] END ..C=1, degree=2, kernel=poly;, score=0.955 total time= 1.3min\n",
      "[CV 2/5; 7/21] START C=1, degree=2, kernel=poly.................................\n",
      "[CV 2/5; 7/21] END ..C=1, degree=2, kernel=poly;, score=0.911 total time= 1.2min\n",
      "[CV 3/5; 7/21] START C=1, degree=2, kernel=poly.................................\n",
      "[CV 3/5; 7/21] END ..C=1, degree=2, kernel=poly;, score=0.941 total time= 1.3min\n",
      "[CV 4/5; 7/21] START C=1, degree=2, kernel=poly.................................\n",
      "[CV 4/5; 7/21] END ..C=1, degree=2, kernel=poly;, score=0.982 total time=18.9min\n",
      "[CV 5/5; 7/21] START C=1, degree=2, kernel=poly.................................\n",
      "[CV 5/5; 7/21] END ..C=1, degree=2, kernel=poly;, score=0.873 total time= 1.2min\n",
      "[CV 1/5; 8/21] START C=1, degree=3, kernel=poly.................................\n",
      "[CV 1/5; 8/21] END ..C=1, degree=3, kernel=poly;, score=0.965 total time= 1.6min\n",
      "[CV 2/5; 8/21] START C=1, degree=3, kernel=poly.................................\n",
      "[CV 2/5; 8/21] END ..C=1, degree=3, kernel=poly;, score=0.855 total time= 1.3min\n",
      "[CV 3/5; 8/21] START C=1, degree=3, kernel=poly.................................\n",
      "[CV 3/5; 8/21] END ..C=1, degree=3, kernel=poly;, score=0.906 total time= 1.3min\n",
      "[CV 4/5; 8/21] START C=1, degree=3, kernel=poly.................................\n",
      "[CV 4/5; 8/21] END ..C=1, degree=3, kernel=poly;, score=0.969 total time= 1.4min\n",
      "[CV 5/5; 8/21] START C=1, degree=3, kernel=poly.................................\n",
      "[CV 5/5; 8/21] END ..C=1, degree=3, kernel=poly;, score=0.804 total time= 1.2min\n",
      "[CV 1/5; 9/21] START C=1, degree=4, kernel=poly.................................\n",
      "[CV 1/5; 9/21] END ..C=1, degree=4, kernel=poly;, score=0.979 total time= 3.1min\n",
      "[CV 2/5; 9/21] START C=1, degree=4, kernel=poly.................................\n",
      "[CV 2/5; 9/21] END ..C=1, degree=4, kernel=poly;, score=0.829 total time= 2.1min\n",
      "[CV 3/5; 9/21] START C=1, degree=4, kernel=poly.................................\n",
      "[CV 3/5; 9/21] END ..C=1, degree=4, kernel=poly;, score=0.882 total time= 2.0min\n",
      "[CV 4/5; 9/21] START C=1, degree=4, kernel=poly.................................\n",
      "[CV 4/5; 9/21] END ..C=1, degree=4, kernel=poly;, score=0.922 total time= 2.4min\n",
      "[CV 5/5; 9/21] START C=1, degree=4, kernel=poly.................................\n",
      "[CV 5/5; 9/21] END ..C=1, degree=4, kernel=poly;, score=0.770 total time= 1.6min\n",
      "[CV 1/5; 10/21] START C=10, degree=2, kernel=poly...............................\n",
      "[CV 1/5; 10/21] END C=10, degree=2, kernel=poly;, score=0.973 total time= 2.0min\n",
      "[CV 2/5; 10/21] START C=10, degree=2, kernel=poly...............................\n",
      "[CV 2/5; 10/21] END C=10, degree=2, kernel=poly;, score=0.937 total time= 1.9min\n",
      "[CV 3/5; 10/21] START C=10, degree=2, kernel=poly...............................\n",
      "[CV 3/5; 10/21] END C=10, degree=2, kernel=poly;, score=0.947 total time= 2.0min\n",
      "[CV 4/5; 10/21] START C=10, degree=2, kernel=poly...............................\n",
      "[CV 4/5; 10/21] END C=10, degree=2, kernel=poly;, score=0.972 total time= 2.0min\n",
      "[CV 5/5; 10/21] START C=10, degree=2, kernel=poly...............................\n",
      "[CV 5/5; 10/21] END C=10, degree=2, kernel=poly;, score=0.907 total time= 1.7min\n",
      "[CV 1/5; 11/21] START C=10, degree=3, kernel=poly...............................\n"
     ]
    },
    {
     "name": "stdout",
     "output_type": "stream",
     "text": [
      "[CV 1/5; 11/21] END C=10, degree=3, kernel=poly;, score=0.965 total time= 3.6min\n",
      "[CV 2/5; 11/21] START C=10, degree=3, kernel=poly...............................\n",
      "[CV 2/5; 11/21] END C=10, degree=3, kernel=poly;, score=0.846 total time= 9.3min\n",
      "[CV 3/5; 11/21] START C=10, degree=3, kernel=poly...............................\n",
      "[CV 3/5; 11/21] END C=10, degree=3, kernel=poly;, score=0.907 total time= 3.1min\n",
      "[CV 4/5; 11/21] START C=10, degree=3, kernel=poly...............................\n",
      "[CV 4/5; 11/21] END C=10, degree=3, kernel=poly;, score=0.920 total time= 3.3min\n",
      "[CV 5/5; 11/21] START C=10, degree=3, kernel=poly...............................\n",
      "[CV 5/5; 11/21] END C=10, degree=3, kernel=poly;, score=0.826 total time= 2.3min\n",
      "[CV 1/5; 12/21] START C=10, degree=4, kernel=poly...............................\n",
      "[CV 1/5; 12/21] END C=10, degree=4, kernel=poly;, score=0.877 total time= 5.1min\n",
      "[CV 2/5; 12/21] START C=10, degree=4, kernel=poly...............................\n",
      "[CV 2/5; 12/21] END C=10, degree=4, kernel=poly;, score=0.822 total time= 3.5min\n",
      "[CV 3/5; 12/21] START C=10, degree=4, kernel=poly...............................\n",
      "[CV 3/5; 12/21] END C=10, degree=4, kernel=poly;, score=0.873 total time=24.0min\n",
      "[CV 4/5; 12/21] START C=10, degree=4, kernel=poly...............................\n",
      "[CV 4/5; 12/21] END C=10, degree=4, kernel=poly;, score=0.840 total time= 4.4min\n",
      "[CV 5/5; 12/21] START C=10, degree=4, kernel=poly...............................\n",
      "[CV 5/5; 12/21] END C=10, degree=4, kernel=poly;, score=0.806 total time=10.2min\n",
      "[CV 1/5; 13/21] START C=0.1, gamma=0.001, kernel=rbf............................\n",
      "[CV 1/5; 13/21] END C=0.1, gamma=0.001, kernel=rbf;, score=0.987 total time= 1.7min\n",
      "[CV 2/5; 13/21] START C=0.1, gamma=0.001, kernel=rbf............................\n",
      "[CV 2/5; 13/21] END C=0.1, gamma=0.001, kernel=rbf;, score=0.977 total time= 1.6min\n",
      "[CV 3/5; 13/21] START C=0.1, gamma=0.001, kernel=rbf............................\n",
      "[CV 3/5; 13/21] END C=0.1, gamma=0.001, kernel=rbf;, score=0.981 total time= 1.7min\n",
      "[CV 4/5; 13/21] START C=0.1, gamma=0.001, kernel=rbf............................\n",
      "[CV 4/5; 13/21] END C=0.1, gamma=0.001, kernel=rbf;, score=0.986 total time= 1.6min\n",
      "[CV 5/5; 13/21] START C=0.1, gamma=0.001, kernel=rbf............................\n",
      "[CV 5/5; 13/21] END C=0.1, gamma=0.001, kernel=rbf;, score=0.983 total time= 1.6min\n",
      "[CV 1/5; 14/21] START C=0.1, gamma=0.01, kernel=rbf.............................\n",
      "[CV 1/5; 14/21] END C=0.1, gamma=0.01, kernel=rbf;, score=0.970 total time= 3.4min\n",
      "[CV 2/5; 14/21] START C=0.1, gamma=0.01, kernel=rbf.............................\n",
      "[CV 2/5; 14/21] END C=0.1, gamma=0.01, kernel=rbf;, score=0.902 total time= 3.1min\n",
      "[CV 3/5; 14/21] START C=0.1, gamma=0.01, kernel=rbf.............................\n",
      "[CV 3/5; 14/21] END C=0.1, gamma=0.01, kernel=rbf;, score=0.977 total time= 3.5min\n",
      "[CV 4/5; 14/21] START C=0.1, gamma=0.01, kernel=rbf.............................\n",
      "[CV 4/5; 14/21] END C=0.1, gamma=0.01, kernel=rbf;, score=0.952 total time= 3.2min\n",
      "[CV 5/5; 14/21] START C=0.1, gamma=0.01, kernel=rbf.............................\n",
      "[CV 5/5; 14/21] END C=0.1, gamma=0.01, kernel=rbf;, score=0.892 total time= 3.2min\n",
      "[CV 1/5; 15/21] START C=0.1, gamma=0.1, kernel=rbf..............................\n",
      "[CV 1/5; 15/21] END C=0.1, gamma=0.1, kernel=rbf;, score=0.839 total time=109.8min\n",
      "[CV 2/5; 15/21] START C=0.1, gamma=0.1, kernel=rbf..............................\n",
      "[CV 2/5; 15/21] END C=0.1, gamma=0.1, kernel=rbf;, score=0.739 total time=194.2min\n",
      "[CV 3/5; 15/21] START C=0.1, gamma=0.1, kernel=rbf..............................\n",
      "[CV 3/5; 15/21] END C=0.1, gamma=0.1, kernel=rbf;, score=0.869 total time=93.6min\n",
      "[CV 4/5; 15/21] START C=0.1, gamma=0.1, kernel=rbf..............................\n"
     ]
    }
   ],
   "source": [
    "criterion = make_scorer(roc_auc_score, needs_proba=True)\n",
    "\n",
    "clf_svm = SVC(probability = True)\n",
    "\n",
    "C = [0.1, 1, 10]\n",
    "param_grid = [\n",
    "    {'kernel': ['linear'], 'C': C},\n",
    "    {'kernel': ['poly'], 'degree': [2, 3, 4], 'C': C},\n",
    "    {'kernel': ['rbf'], 'gamma': [0.001, 0.01, 0.1], 'C': C}\n",
    "]\n",
    "\n",
    "grid_result_svm = grid_search(clf_svm, criterion, param_grid, k=5, X=X_input, y=y_input)\n",
    "\n",
    "# Choose best parameters from hyperparameter tuning\n",
    "clf_svm = grid_result_svm.best_estimator_\n",
    "\n",
    "# save best svm model\n",
    "pickle.dump(grid_result_svm, open('models/grid_svm.sav', 'wb'))\n",
    "pickle.dump(clf_svm, open('models/model_svm.sav', 'wb'))"
   ]
  },
  {
   "cell_type": "code",
   "execution_count": null,
   "id": "f6462b25",
   "metadata": {},
   "outputs": [],
   "source": [
    "# svm_output = svm_model(X_input, y_input, X_test, y_test, standardize = False, scoring = scoring_metric,\n",
    "#                        test = test_mode, folds = cv_folds)"
   ]
  },
  {
   "cell_type": "code",
   "execution_count": null,
   "id": "9709f84f",
   "metadata": {
    "scrolled": false
   },
   "outputs": [],
   "source": [
    "# svm_output"
   ]
  },
  {
   "cell_type": "code",
   "execution_count": null,
   "id": "8fdb6404",
   "metadata": {},
   "outputs": [],
   "source": [
    "# pickle.dump(svm_output, open(f'svm_output.sav', 'wb'))"
   ]
  },
  {
   "cell_type": "code",
   "execution_count": null,
   "id": "c2e9b758",
   "metadata": {
    "scrolled": false
   },
   "outputs": [],
   "source": [
    "# pickle.load(open(f'svm_output.sav', 'rb'))"
   ]
  },
  {
   "cell_type": "code",
   "execution_count": null,
   "id": "16b8a50a",
   "metadata": {},
   "outputs": [],
   "source": [
    "sum(y_train)/len(y_train)"
   ]
  },
  {
   "cell_type": "code",
   "execution_count": null,
   "id": "59cf5407",
   "metadata": {},
   "outputs": [],
   "source": [
    "sum(y_train[:100000])/len(y_train[:100000])"
   ]
  },
  {
   "cell_type": "code",
   "execution_count": null,
   "id": "6ea35629",
   "metadata": {},
   "outputs": [],
   "source": [
    "sum(y_test[:100000])/len(y_test[:100000])"
   ]
  },
  {
   "cell_type": "markdown",
   "id": "0afbebdf",
   "metadata": {},
   "source": [
    "## CHANGE TEST MODE TO FALSE ONCE THIS RUNS SUCCESSFULLY"
   ]
  },
  {
   "cell_type": "code",
   "execution_count": null,
   "id": "39d928ec",
   "metadata": {},
   "outputs": [],
   "source": []
  },
  {
   "cell_type": "code",
   "execution_count": null,
   "id": "5ef8b84a",
   "metadata": {},
   "outputs": [],
   "source": []
  },
  {
   "cell_type": "code",
   "execution_count": null,
   "id": "124b412b",
   "metadata": {},
   "outputs": [],
   "source": []
  },
  {
   "cell_type": "code",
   "execution_count": null,
   "id": "902331fa",
   "metadata": {},
   "outputs": [],
   "source": []
  }
 ],
 "metadata": {
  "kernelspec": {
   "display_name": "Python 3 (ipykernel)",
   "language": "python",
   "name": "python3"
  },
  "language_info": {
   "codemirror_mode": {
    "name": "ipython",
    "version": 3
   },
   "file_extension": ".py",
   "mimetype": "text/x-python",
   "name": "python",
   "nbconvert_exporter": "python",
   "pygments_lexer": "ipython3",
   "version": "3.9.6"
  }
 },
 "nbformat": 4,
 "nbformat_minor": 5
}
