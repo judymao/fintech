{
 "cells": [
  {
   "cell_type": "markdown",
   "id": "05690754",
   "metadata": {},
   "source": [
    "# Model: Support Vector Machine"
   ]
  },
  {
   "cell_type": "code",
   "execution_count": 1,
   "id": "dcdcf4c9",
   "metadata": {},
   "outputs": [],
   "source": [
    "# Import relevant packages\n",
    "import matplotlib.pyplot as plt\n",
    "%matplotlib inline\n",
    "\n",
    "import numpy as np\n",
    "import pandas as pd\n",
    "import seaborn as sns\n",
    "import pickle\n",
    "\n",
    "\n",
    "from sklearn.preprocessing import StandardScaler\n",
    "from sklearn.model_selection import cross_val_score, train_test_split, GridSearchCV, StratifiedKFold\n",
    "from sklearn.metrics import make_scorer, accuracy_score, recall_score, roc_auc_score, precision_score, balanced_accuracy_score\n",
    "from sklearn.metrics import plot_confusion_matrix, auc, roc_curve, plot_roc_curve, plot_precision_recall_curve, precision_recall_curve, confusion_matrix\n",
    "\n",
    "from sklearn.svm import SVC\n",
    "\n",
    "from utils import process_data, split_train, grid_search"
   ]
  },
  {
   "cell_type": "code",
   "execution_count": 2,
   "id": "01d52024",
   "metadata": {},
   "outputs": [
    {
     "name": "stdout",
     "output_type": "stream",
     "text": [
      "Beginning data processing ...\n",
      "Reading in batched data ...\n"
     ]
    },
    {
     "name": "stderr",
     "output_type": "stream",
     "text": [
      "100%|██████████████████████████████████████████████████████████████████████████████████| 19/19 [00:21<00:00,  1.13s/it]\n"
     ]
    },
    {
     "name": "stdout",
     "output_type": "stream",
     "text": [
      "Splitting data into train and test ...\n",
      "Scaling data ...\n",
      "Completed normal data processing.\n"
     ]
    }
   ],
   "source": [
    "data = process_data(type_ = 'normal')"
   ]
  },
  {
   "cell_type": "code",
   "execution_count": 3,
   "id": "23828c3b",
   "metadata": {},
   "outputs": [],
   "source": [
    "X_train = data['X_train_scaled']\n",
    "y_train = data['y_train']\n",
    "\n",
    "X_test = data['X_test_scaled']\n",
    "y_test = data['y_test']"
   ]
  },
  {
   "cell_type": "markdown",
   "id": "3c2358e3",
   "metadata": {},
   "source": [
    "## SVM Model"
   ]
  },
  {
   "cell_type": "code",
   "execution_count": 7,
   "id": "b03e82f0",
   "metadata": {},
   "outputs": [
    {
     "name": "stdout",
     "output_type": "stream",
     "text": [
      "Splitting train ...\n"
     ]
    }
   ],
   "source": [
    "X_input, y_input = split_train(X_train, y_train, keep_percent=0.1)"
   ]
  },
  {
   "cell_type": "code",
   "execution_count": 2,
   "id": "bd0ce4c8",
   "metadata": {
    "scrolled": false
   },
   "outputs": [],
   "source": [
    "criterion = make_scorer(roc_auc_score, needs_proba=True)\n",
    "\n",
    "clf_svm = SVC(probability = True)\n",
    "\n",
    "C = [0.1, 1, 10]\n",
    "param_grid = [\n",
    "    {'kernel': ['linear'], 'C': C},\n",
    "    {'kernel': ['poly'], 'degree': [2, 3, 4], 'C': C},\n",
    "    {'kernel': ['rbf'], 'gamma': [0.001, 0.01, 0.1], 'C': C}\n",
    "]\n",
    "\n",
    "grid_result_svm = grid_search(clf_svm, criterion, param_grid, k=5, X=X_input, y=y_input)\n",
    "\n",
    "# Choose best parameters from hyperparameter tuning\n",
    "clf_svm = grid_result_svm.best_estimator_\n",
    "\n",
    "# save best svm model\n",
    "pickle.dump(grid_result_svm, open('models/grid_svm.sav', 'wb'))\n",
    "pickle.dump(clf_svm, open('models/model_svm.sav', 'wb'))"
   ]
  },
  {
   "cell_type": "code",
   "execution_count": null,
   "id": "f6462b25",
   "metadata": {},
   "outputs": [],
   "source": [
    "# svm_output = svm_model(X_input, y_input, X_test, y_test, standardize = False, scoring = scoring_metric,\n",
    "#                        test = test_mode, folds = cv_folds)"
   ]
  },
  {
   "cell_type": "code",
   "execution_count": null,
   "id": "9709f84f",
   "metadata": {
    "scrolled": false
   },
   "outputs": [],
   "source": [
    "# svm_output"
   ]
  }
 ],
 "metadata": {
  "kernelspec": {
   "display_name": "Python 3 (ipykernel)",
   "language": "python",
   "name": "python3"
  },
  "language_info": {
   "codemirror_mode": {
    "name": "ipython",
    "version": 3
   },
   "file_extension": ".py",
   "mimetype": "text/x-python",
   "name": "python",
   "nbconvert_exporter": "python",
   "pygments_lexer": "ipython3",
   "version": "3.9.6"
  }
 },
 "nbformat": 4,
 "nbformat_minor": 5
}
